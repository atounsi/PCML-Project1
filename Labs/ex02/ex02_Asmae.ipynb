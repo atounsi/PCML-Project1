{
 "cells": [
  {
   "cell_type": "code",
   "execution_count": 1,
   "metadata": {
    "collapsed": true
   },
   "outputs": [],
   "source": [
    "# Useful starting lines\n",
    "%matplotlib inline\n",
    "import numpy as np\n",
    "import matplotlib.pyplot as plt\n",
    "%load_ext autoreload\n",
    "%autoreload 2"
   ]
  },
  {
   "cell_type": "markdown",
   "metadata": {},
   "source": [
    "# Load the data"
   ]
  },
  {
   "cell_type": "code",
   "execution_count": 2,
   "metadata": {
    "collapsed": true
   },
   "outputs": [],
   "source": [
    "import datetime\n",
    "from helpers import *\n",
    "\n",
    "height, weight, gender = load_data(sub_sample=True, add_outlier=True)\n",
    "x, mean_x, std_x = standardize(height)\n",
    "y, tx = build_model_data(x, weight)"
   ]
  },
  {
   "cell_type": "code",
   "execution_count": 3,
   "metadata": {
    "collapsed": false
   },
   "outputs": [
    {
     "data": {
      "text/plain": [
       "((202,), (202, 2))"
      ]
     },
     "execution_count": 3,
     "metadata": {},
     "output_type": "execute_result"
    }
   ],
   "source": [
    "y.shape, tx.shape"
   ]
  },
  {
   "cell_type": "markdown",
   "metadata": {},
   "source": [
    "# Computing the Cost Function\n",
    "Fill in the the `compute_cost` function below:"
   ]
  },
  {
   "cell_type": "code",
   "execution_count": 4,
   "metadata": {
    "collapsed": false
   },
   "outputs": [
    {
     "data": {
      "text/plain": [
       "2713.1646079600109"
      ]
     },
     "execution_count": 4,
     "metadata": {},
     "output_type": "execute_result"
    }
   ],
   "source": [
    "def compute_loss(y, tx, w):\n",
    "    loss = np.sum((y - tx.dot(w))**2)/(2*y.shape[0])    \n",
    "    return loss\n",
    "w = np.r_[2, 1]\n",
    "compute_loss(y, tx, w)"
   ]
  },
  {
   "cell_type": "markdown",
   "metadata": {},
   "source": [
    "# Grid Search"
   ]
  },
  {
   "cell_type": "markdown",
   "metadata": {},
   "source": [
    "Fill in the function `grid_search()` below:"
   ]
  },
  {
   "cell_type": "code",
   "execution_count": 5,
   "metadata": {
    "collapsed": true
   },
   "outputs": [],
   "source": [
    "def grid_search(y, tx, w0, w1):\n",
    "    \"\"\"Algorithm for grid search.\"\"\"\n",
    "    losses = np.zeros((len(w0), len(w1)))\n",
    "    for i in range(len(w0)):\n",
    "        for j in range(len(w1)):\n",
    "            w = np.r_[w0[i],w1[j]]\n",
    "            losses[i,j] = compute_loss(y, tx, w)\n",
    "    return losses"
   ]
  },
  {
   "cell_type": "markdown",
   "metadata": {},
   "source": [
    "Let us play with the grid search demo now!"
   ]
  },
  {
   "cell_type": "code",
   "execution_count": 6,
   "metadata": {
    "collapsed": false
   },
   "outputs": [
    {
     "name": "stdout",
     "output_type": "stream",
     "text": [
      "Grid Search: loss*=109.17758755205352, w0*=66.66666666666669, w1*=16.666666666666686, execution time=0.006 seconds\n"
     ]
    },
    {
     "data": {
      "image/png": "[encoded data removed]",
      "text/plain": [
       "<matplotlib.figure.Figure at 0x10a17e358>"
      ]
     },
     "metadata": {},
     "output_type": "display_data"
    }
   ],
   "source": [
    "from grid_search import generate_w, get_best_parameters\n",
    "from plots import grid_visualization\n",
    "import datetime\n",
    "\n",
    "# Generate the grid of parameters to be swept\n",
    "grid_w0, grid_w1 = generate_w(num_intervals=10)\n",
    "\n",
    "# Start the grid search\n",
    "start_time = datetime.datetime.now()\n",
    "grid_losses = grid_search(y, tx, grid_w0, grid_w1)\n",
    "\n",
    "# Select the best combinaison\n",
    "loss_star, w0_star, w1_star = get_best_parameters(grid_w0, grid_w1, grid_losses)\n",
    "end_time = datetime.datetime.now()\n",
    "execution_time = (end_time - start_time).total_seconds()\n",
    "\n",
    "# Print the results\n",
    "print(\"Grid Search: loss*={l}, w0*={w0}, w1*={w1}, execution time={t:.3f} seconds\".format(\n",
    "      l=loss_star, w0=w0_star, w1=w1_star, t=execution_time))\n",
    "\n",
    "# Plot the results\n",
    "fig = grid_visualization(grid_losses, grid_w0, grid_w1, mean_x, std_x, height, weight)\n",
    "fig.set_size_inches(10.0,6.0)\n",
    "fig.savefig(\"grid_plot\")  # Optional saving"
   ]
  },
  {
   "cell_type": "markdown",
   "metadata": {},
   "source": [
    "# Gradient Descent"
   ]
  },
  {
   "cell_type": "markdown",
   "metadata": {},
   "source": [
    "Again, please fill in the functions `compute_gradient` below:"
   ]
  },
  {
   "cell_type": "code",
   "execution_count": 7,
   "metadata": {
    "collapsed": false
   },
   "outputs": [
    {
     "data": {
      "text/plain": [
       "array([ 25.93219415,  -1.03489487])"
      ]
     },
     "execution_count": 7,
     "metadata": {},
     "output_type": "execute_result"
    }
   ],
   "source": [
    "def compute_gradient(y, tx, w):\n",
    "    gradient = - np.dot(np.transpose(tx), y - np.dot(tx, w))/y.shape[0]\n",
    "    return gradient\n",
    "w = np.r_[100, 10]\n",
    "compute_gradient(y, tx, w)"
   ]
  },
  {
   "cell_type": "code",
   "execution_count": 8,
   "metadata": {
    "collapsed": false
   },
   "outputs": [
    {
     "data": {
      "text/plain": [
       "array([-24.06780585,  -1.03489487])"
      ]
     },
     "execution_count": 8,
     "metadata": {},
     "output_type": "execute_result"
    }
   ],
   "source": [
    "w = np.r_[50, 10]\n",
    "compute_gradient(y, tx, w)"
   ]
  },
  {
   "cell_type": "markdown",
   "metadata": {},
   "source": [
    "Please fill in the functions `gradient_descent` below:"
   ]
  },
  {
   "cell_type": "code",
   "execution_count": 9,
   "metadata": {
    "collapsed": true
   },
   "outputs": [],
   "source": [
    "def gradient_descent(y, tx, initial_w, max_iters, gamma): \n",
    "    \"\"\"Gradient descent algorithm.\"\"\"\n",
    "    # Define parameters to store w and loss\n",
    "    ws = [initial_w]\n",
    "    losses = []\n",
    "    w = initial_w\n",
    "    for n_iter in range(max_iters):\n",
    "        loss = compute_loss(y, tx, w)\n",
    "        gradient = compute_gradient(y, tx, w)\n",
    "        w = w - gamma*gradient\n",
    "        # store w and loss\n",
    "        ws.append(np.copy(w))\n",
    "        losses.append(loss)\n",
    "        print(\"Gradient Descent({bi}/{ti}): loss={l}, w0={w0}, w1={w1}\".format(\n",
    "              bi=n_iter, ti=max_iters - 1, l=loss, w0=w[0], w1=w[1]))\n",
    "\n",
    "    return losses, ws"
   ]
  },
  {
   "cell_type": "markdown",
   "metadata": {},
   "source": [
    "Test your gradient descent function through gradient descent demo shown below:"
   ]
  },
  {
   "cell_type": "code",
   "execution_count": 10,
   "metadata": {
    "collapsed": false
   },
   "outputs": [
    {
     "name": "stdout",
     "output_type": "stream",
     "text": [
      "Gradient Descent(0/49): loss=2869.8351145358524, w0=29.62712234197053, w1=4.413957946395668\n",
      "Gradient Descent(1/49): loss=1075.3363084985738, w0=47.403395747152864, w1=7.062332714233058\n",
      "Gradient Descent(2/49): loss=429.31673832515264, w0=58.06915979026227, w1=8.65135757493549\n",
      "Gradient Descent(3/49): loss=196.749693062721, w0=64.46861821612791, w1=9.604772491356941\n",
      "Gradient Descent(4/49): loss=113.0255567682457, w0=68.30829327164729, w1=10.17682144120981\n",
      "Gradient Descent(5/49): loss=82.88486770223464, w0=70.61209830495892, w1=10.52005081112153\n",
      "Gradient Descent(6/49): loss=72.03421963847063, w0=71.99438132494589, w1=10.725988433068562\n",
      "Gradient Descent(7/49): loss=68.1279863355156, w0=72.82375113693809, w1=10.849551006236778\n",
      "Gradient Descent(8/49): loss=66.72174234645178, w0=73.3213730241334, w1=10.923688550137706\n",
      "Gradient Descent(9/49): loss=66.21549451038881, w0=73.61994615645058, w1=10.968171076478264\n",
      "Gradient Descent(10/49): loss=66.03324528940614, w0=73.79909003584089, w1=10.994860592282599\n",
      "Gradient Descent(11/49): loss=65.96763556985238, w0=73.90657636347508, w1=11.0108743017652\n",
      "Gradient Descent(12/49): loss=65.944016070813, w0=73.9710681600556, w1=11.02048252745476\n",
      "Gradient Descent(13/49): loss=65.93551305115884, w0=74.0097632380039, w1=11.026247462868497\n",
      "Gradient Descent(14/49): loss=65.93245196408334, w0=74.03298028477289, w1=11.029706424116737\n",
      "Gradient Descent(15/49): loss=65.93134997273617, w0=74.04691051283429, w1=11.031781800865682\n",
      "Gradient Descent(16/49): loss=65.93095325585118, w0=74.05526864967112, w1=11.033027026915049\n",
      "Gradient Descent(17/49): loss=65.93081043777259, w0=74.06028353177322, w1=11.033774162544669\n",
      "Gradient Descent(18/49): loss=65.93075902326429, w0=74.06329246103448, w1=11.034222443922442\n",
      "Gradient Descent(19/49): loss=65.93074051404129, w0=74.06509781859124, w1=11.034491412749107\n",
      "Gradient Descent(20/49): loss=65.93073385072103, w0=74.06618103312529, w1=11.034652794045105\n",
      "Gradient Descent(21/49): loss=65.93073145192574, w0=74.06683096184572, w1=11.034749622822703\n",
      "Gradient Descent(22/49): loss=65.93073058835942, w0=74.06722091907798, w1=11.034807720089262\n",
      "Gradient Descent(23/49): loss=65.93073027747555, w0=74.06745489341733, w1=11.034842578449197\n",
      "Gradient Descent(24/49): loss=65.93073016555736, w0=74.06759527802095, w1=11.03486349346516\n",
      "Gradient Descent(25/49): loss=65.9307301252668, w0=74.06767950878312, w1=11.034876042474737\n",
      "Gradient Descent(26/49): loss=65.9307301107622, w0=74.06773004724042, w1=11.034883571880483\n",
      "Gradient Descent(27/49): loss=65.93073010554055, w0=74.0677603703148, w1=11.03488808952393\n",
      "Gradient Descent(28/49): loss=65.93073010366076, w0=74.06777856415943, w1=11.034890800109999\n",
      "Gradient Descent(29/49): loss=65.93073010298403, w0=74.0677894804662, w1=11.03489242646164\n",
      "Gradient Descent(30/49): loss=65.93073010274041, w0=74.06779603025026, w1=11.034893402272624\n",
      "Gradient Descent(31/49): loss=65.9307301026527, w0=74.06779996012071, w1=11.034893987759215\n",
      "Gradient Descent(32/49): loss=65.93073010262114, w0=74.06780231804296, w1=11.034894339051169\n",
      "Gradient Descent(33/49): loss=65.93073010260977, w0=74.06780373279632, w1=11.034894549826342\n",
      "Gradient Descent(34/49): loss=65.93073010260568, w0=74.06780458164833, w1=11.034894676291447\n",
      "Gradient Descent(35/49): loss=65.9307301026042, w0=74.06780509095955, w1=11.034894752170509\n",
      "Gradient Descent(36/49): loss=65.93073010260366, w0=74.06780539654628, w1=11.034894797697945\n",
      "Gradient Descent(37/49): loss=65.93073010260349, w0=74.0678055798983, w1=11.034894825014407\n",
      "Gradient Descent(38/49): loss=65.93073010260342, w0=74.06780568990953, w1=11.034894841404284\n",
      "Gradient Descent(39/49): loss=65.93073010260339, w0=74.06780575591627, w1=11.03489485123821\n",
      "Gradient Descent(40/49): loss=65.93073010260338, w0=74.0678057955203, w1=11.034894857138566\n",
      "Gradient Descent(41/49): loss=65.93073010260339, w0=74.06780581928273, w1=11.034894860678781\n",
      "Gradient Descent(42/49): loss=65.93073010260338, w0=74.06780583354018, w1=11.03489486280291\n",
      "Gradient Descent(43/49): loss=65.93073010260338, w0=74.06780584209466, w1=11.034894864077387\n",
      "Gradient Descent(44/49): loss=65.93073010260338, w0=74.06780584722733, w1=11.034894864842073\n",
      "Gradient Descent(45/49): loss=65.93073010260338, w0=74.06780585030695, w1=11.034894865300885\n",
      "Gradient Descent(46/49): loss=65.93073010260336, w0=74.06780585215472, w1=11.03489486557617\n",
      "Gradient Descent(47/49): loss=65.93073010260338, w0=74.06780585326338, w1=11.034894865741343\n",
      "Gradient Descent(48/49): loss=65.93073010260338, w0=74.06780585392858, w1=11.034894865840446\n",
      "Gradient Descent(49/49): loss=65.93073010260338, w0=74.06780585432769, w1=11.034894865899908\n",
      "Gradient Descent: execution time=0.026 seconds\n"
     ]
    }
   ],
   "source": [
    "from plots import gradient_descent_visualization\n",
    "\n",
    "# Define the parameters of the algorithm.\n",
    "max_iters = 50\n",
    "gamma = 0.4\n",
    "\n",
    "# Initialization\n",
    "w_initial = np.array([0.0, 0.0])\n",
    "\n",
    "# Start gradient descent.\n",
    "start_time = datetime.datetime.now()\n",
    "gradient_losses, gradient_ws = gradient_descent(y, tx, w_initial, max_iters, gamma)\n",
    "end_time = datetime.datetime.now()\n",
    "\n",
    "# Print result\n",
    "exection_time = (end_time - start_time).total_seconds()\n",
    "print(\"Gradient Descent: execution time={t:.3f} seconds\".format(t=exection_time))"
   ]
  },
  {
   "cell_type": "code",
   "execution_count": 11,
   "metadata": {
    "collapsed": false
   },
   "outputs": [
    {
     "data": {
      "text/plain": [
       "<function __main__.plot_figure>"
      ]
     },
     "execution_count": 11,
     "metadata": {},
     "output_type": "execute_result"
    },
    {
     "data": {
      "image/png": "[encoded data removed]",
      "text/plain": [
       "<matplotlib.figure.Figure at 0x10aa37748>"
      ]
     },
     "metadata": {},
     "output_type": "display_data"
    }
   ],
   "source": [
    "# Time Visualization\n",
    "from ipywidgets import IntSlider, interact\n",
    "def plot_figure(n_iter):\n",
    "    fig = gradient_descent_visualization(\n",
    "        gradient_losses, gradient_ws, grid_losses, grid_w0, grid_w1, mean_x, std_x, height, weight, n_iter)\n",
    "    fig.set_size_inches(10.0, 6.0)\n",
    "\n",
    "interact(plot_figure, n_iter=IntSlider(min=1, max=len(gradient_ws)))"
   ]
  },
  {
   "cell_type": "markdown",
   "metadata": {},
   "source": [
    "# Stochastic gradient descent"
   ]
  },
  {
   "cell_type": "code",
   "execution_count": 12,
   "metadata": {
    "collapsed": false
   },
   "outputs": [],
   "source": [
    "def compute_stoch_gradient(y, tx, w):\n",
    "    \"\"\"Compute a stochastic gradient for batch data.\"\"\"\n",
    "    stoch_gradient = - np.sum(np.dot(y - np.dot(tx, w),np.ones(tx.shape))*tx,axis=0)/y.shape[0]\n",
    "    return stoch_gradient\n",
    "\n",
    "def stochastic_gradient_descent(\n",
    "        y, tx, initial_w, batch_size, max_epochs, gamma):\n",
    "    \"\"\"Stochastic gradient descent algorithm.\"\"\"\n",
    "    # Define parameters to store w and loss\n",
    "    ws = [initial_w]\n",
    "    losses = []\n",
    "    w = initial_w\n",
    "    n_epoch = -1\n",
    "    for minibatch_y, minibatch_tx in batch_iter(y, tx, batch_size, max_epochs):\n",
    "        loss = compute_loss(y, tx, w)\n",
    "        stoch_gradient = compute_stoch_gradient(minibatch_y, minibatch_tx, w)\n",
    "        w = w - gamma*stoch_gradient\n",
    "        # store w and loss\n",
    "        ws.append(np.copy(w))\n",
    "        losses.append(loss)\n",
    "        n_epoch = n_epoch + 1\n",
    "        print(\"Stochastic Gradient Descent({bi}/{ti}): loss={l}, w0={w0}, w1={w1}\".format(\n",
    "        bi=n_epoch, ti=max_epochs - 1, l=loss, w0=w[0], w1=w[1]))\n",
    "    return losses, ws"
   ]
  },
  {
   "cell_type": "code",
   "execution_count": 13,
   "metadata": {
    "collapsed": false
   },
   "outputs": [
    {
     "name": "stdout",
     "output_type": "stream",
     "text": [
      "Stochastic Gradient Descent(0/49): loss=2869.8351145358524, w0=26.412398718172405, w1=-6.948754150274894\n",
      "Stochastic Gradient Descent(1/49): loss=1363.1554607575808, w0=56.55508061895375, w1=30.909262054793146\n",
      "Stochastic Gradient Descent(2/49): loss=416.77373827564435, w0=58.33476309803372, w1=32.2517930302797\n",
      "Stochastic Gradient Descent(3/49): loss=414.77343115464794, w0=76.39665745125372, w1=1.7013320910018734\n",
      "Stochastic Gradient Descent(4/49): loss=112.20020201877524, w0=67.48000418620924, w1=12.129464699692354\n",
      "Stochastic Gradient Descent(5/49): loss=88.22933707620601, w0=108.41175654692563, w1=-149.8608512403474\n",
      "Stochastic Gradient Descent(6/49): loss=13599.404762227185, w0=205.54289055874315, w1=15.919631753814002\n",
      "Stochastic Gradient Descent(7/49): loss=8720.710006272142, w0=151.84278926573646, w1=-41.308232761576036\n",
      "Stochastic Gradient Descent(8/49): loss=4460.306257296278, w0=137.23152534328997, w1=-51.93658812082225\n",
      "Stochastic Gradient Descent(9/49): loss=4043.462294684077, w0=90.77551800053467, w1=-19.43838551639616\n",
      "Stochastic Gradient Descent(10/49): loss=669.8149613045897, w0=99.87864839551474, w1=-10.814543818206348\n",
      "Stochastic Gradient Descent(11/49): loss=637.7295118373345, w0=81.55273426366821, w1=0.6964446908788613\n",
      "Stochastic Gradient Descent(12/49): loss=147.38458275621716, w0=73.68644519473979, w1=3.438709753357299\n",
      "Stochastic Gradient Descent(13/49): loss=94.85446221185687, w0=66.18609629185677, w1=12.454327462340805\n",
      "Stochastic Gradient Descent(14/49): loss=97.99879736868758, w0=69.47813981455134, w1=16.591627284675475\n",
      "Stochastic Gradient Descent(15/49): loss=91.90188487012928, w0=71.27174349620492, w1=18.629083493975383\n",
      "Stochastic Gradient Descent(16/49): loss=98.6755629182509, w0=76.1339847522321, w1=15.854426264062903\n",
      "Stochastic Gradient Descent(17/49): loss=79.67921916894875, w0=76.165855629453, w1=15.873891041966909\n",
      "Stochastic Gradient Descent(18/49): loss=79.83957852636296, w0=78.69773565148127, w1=16.757563190947575\n",
      "Stochastic Gradient Descent(19/49): loss=93.02332144185837, w0=74.43965248302148, w1=17.49058948005573\n",
      "Stochastic Gradient Descent(20/49): loss=86.83786153506067, w0=71.98837203615474, w1=18.93010456871357\n",
      "Stochastic Gradient Descent(21/49): loss=99.25992073092621, w0=70.41036098465847, w1=17.03380830890144\n",
      "Stochastic Gradient Descent(22/49): loss=90.61266283990501, w0=71.40494969232884, w1=16.877268405291236\n",
      "Stochastic Gradient Descent(23/49): loss=86.54279586031403, w0=67.60224830780592, w1=11.67226606710225\n",
      "Stochastic Gradient Descent(24/49): loss=87.03556832417064, w0=77.68551995215753, w1=29.52421309000826\n",
      "Stochastic Gradient Descent(25/49): loss=243.40210194177953, w0=73.1529329464706, w1=27.298631146484787\n",
      "Stochastic Gradient Descent(26/49): loss=198.60378522267234, w0=79.77792380714419, w1=16.984513906673854\n",
      "Stochastic Gradient Descent(27/49): loss=99.93243698136284, w0=77.2133734418711, w1=13.27530089354269\n",
      "Stochastic Gradient Descent(28/49): loss=73.38773740877127, w0=74.08006206074859, w1=17.49858604072802\n",
      "Stochastic Gradient Descent(29/49): loss=86.82045701109286, w0=69.95024199538936, w1=15.960450950517737\n",
      "Stochastic Gradient Descent(30/49): loss=86.53844754220451, w0=71.02489627297582, w1=16.902944879672308\n",
      "Stochastic Gradient Descent(31/49): loss=87.7773849461103, w0=68.81292699768348, w1=16.98288470792041\n",
      "Stochastic Gradient Descent(32/49): loss=97.42689758461152, w0=71.68524060518637, w1=19.929727976526536\n",
      "Stochastic Gradient Descent(33/49): loss=108.3280667193942, w0=72.02438892933361, w1=20.228365977561378\n",
      "Stochastic Gradient Descent(34/49): loss=110.27846200815985, w0=73.36898188419434, w1=20.60585100440798\n",
      "Stochastic Gradient Descent(35/49): loss=111.97650827540724, w0=71.96749927460675, w1=21.377235322150522\n",
      "Stochastic Gradient Descent(36/49): loss=121.6183770238469, w0=71.95481332668514, w1=21.387350076778493\n",
      "Stochastic Gradient Descent(37/49): loss=121.74976326050516, w0=69.28050910380553, w1=19.493842360575883\n",
      "Stochastic Gradient Descent(38/49): loss=113.16673155233738, w0=71.87464020355554, w1=21.54396903408837\n",
      "Stochastic Gradient Descent(39/49): loss=123.55603782508544, w0=73.84616586746787, w1=19.26794477719641\n",
      "Stochastic Gradient Descent(40/49): loss=99.84684766483899, w0=75.84760377178526, w1=22.48491299075056\n",
      "Stochastic Gradient Descent(41/49): loss=133.06602794371398, w0=71.79789830742348, w1=18.29045838283221\n",
      "Stochastic Gradient Descent(42/49): loss=94.828571213181, w0=72.42518327397013, w1=18.273808932469585\n",
      "Stochastic Gradient Descent(43/49): loss=93.48077300528152, w0=73.10985137732442, w1=18.989741518125815\n",
      "Stochastic Gradient Descent(44/49): loss=98.02936112268752, w0=71.6815754431422, w1=18.44947551928726\n",
      "Stochastic Gradient Descent(45/49): loss=96.26578102379688, w0=76.40183154260333, w1=15.872714791663961\n",
      "Stochastic Gradient Descent(46/49): loss=80.35681887459972, w0=78.25543098867452, w1=14.94607942601937\n",
      "Stochastic Gradient Descent(47/49): loss=82.34751456431259, w0=75.70939442946508, w1=13.896758593454942\n",
      "Stochastic Gradient Descent(48/49): loss=71.37326862392375, w0=76.53047425296863, w1=15.498297606612347\n",
      "Stochastic Gradient Descent(49/49): loss=78.92407993446297, w0=75.83503135864986, w1=15.52210742518012\n",
      "SGD: execution time=0.014 seconds\n"
     ]
    }
   ],
   "source": [
    "# Define the parameters of the algorithm.\n",
    "max_iters = 50\n",
    "gamma = 0.4\n",
    "batch_size = 1\n",
    "\n",
    "# Initialization\n",
    "w_initial = np.array([0.0, 0.0])\n",
    "\n",
    "# Start SGD.\n",
    "start_time = datetime.datetime.now()\n",
    "gradient_losses, gradient_ws = stochastic_gradient_descent(\n",
    "    y, tx, w_initial, batch_size, max_iters, gamma)\n",
    "end_time = datetime.datetime.now()\n",
    "\n",
    "# Print result\n",
    "exection_time = (end_time - start_time).total_seconds()\n",
    "print(\"SGD: execution time={t:.3f} seconds\".format(t=exection_time))"
   ]
  },
  {
   "cell_type": "code",
   "execution_count": 14,
   "metadata": {
    "collapsed": false
   },
   "outputs": [
    {
     "data": {
      "text/plain": [
       "<function __main__.plot_figure>"
      ]
     },
     "execution_count": 14,
     "metadata": {},
     "output_type": "execute_result"
    },
    {
     "data": {
      "image/png": "[encoded data removed]",
      "text/plain": [
       "<matplotlib.figure.Figure at 0x10dc20c50>"
      ]
     },
     "metadata": {},
     "output_type": "display_data"
    }
   ],
   "source": [
    "# Time Visualization\n",
    "from ipywidgets import IntSlider, interact\n",
    "def plot_figure(n_iter):\n",
    "    fig = gradient_descent_visualization(\n",
    "        gradient_losses, gradient_ws, grid_losses, grid_w0, grid_w1, mean_x, std_x, height, weight, n_iter)\n",
    "    fig.set_size_inches(10.0, 6.0)\n",
    "\n",
    "interact(plot_figure, n_iter=IntSlider(min=1, max=len(gradient_ws)))"
   ]
  }
 ],
 "metadata": {
  "anaconda-cloud": {},
  "kernelspec": {
   "display_name": "Python [Root]",
   "language": "python",
   "name": "Python [Root]"
  },
  "language_info": {
   "codemirror_mode": {
    "name": "ipython",
    "version": 3
   },
   "file_extension": ".py",
   "mimetype": "text/x-python",
   "name": "python",
   "nbconvert_exporter": "python",
   "pygments_lexer": "ipython3",
   "version": "3.5.2"
  }
 },
 "nbformat": 4,
 "nbformat_minor": 0
}
