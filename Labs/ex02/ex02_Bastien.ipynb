{
 "cells": [
  {
   "cell_type": "code",
   "execution_count": 2,
   "metadata": {
    "collapsed": true
   },
   "outputs": [],
   "source": [
    "# Useful starting lines\n",
    "%matplotlib inline\n",
    "import numpy as np\n",
    "import matplotlib.pyplot as plt\n",
    "%load_ext autoreload\n",
    "%autoreload 2"
   ]
  },
  {
   "cell_type": "markdown",
   "metadata": {},
   "source": [
    "# Load the data"
   ]
  },
  {
   "cell_type": "code",
   "execution_count": 3,
   "metadata": {
    "collapsed": true
   },
   "outputs": [],
   "source": [
    "import datetime\n",
    "from helpers import *\n",
    "\n",
    "height, weight, gender = load_data(sub_sample=False, add_outlier=False)\n",
    "x, mean_x, std_x = standardize(height)\n",
    "y, tx = build_model_data(x, weight)"
   ]
  },
  {
   "cell_type": "code",
   "execution_count": 4,
   "metadata": {
    "collapsed": false
   },
   "outputs": [
    {
     "data": {
      "text/plain": [
       "((10000,), (10000, 2))"
      ]
     },
     "execution_count": 4,
     "metadata": {},
     "output_type": "execute_result"
    }
   ],
   "source": [
    "y.shape, tx.shape"
   ]
  },
  {
   "cell_type": "markdown",
   "metadata": {},
   "source": [
    "# 1. Computing the Cost Function\n",
    "\n",
    "### to understand this data format, answer to the following warmup question\n",
    "\n",
    "Let's use linear model where we will use height as input ($x$) and weight as output ($y$).\n",
    "\n",
    "$y_n = w_0 + w_1\\cdot x_{n1}$\n",
    "\n",
    "#### What does each column of tx represent ?\n",
    "each column of tx represent a dimension of the input $x$. So we should get $D$ column. Here we have $D+1$ columns because of the litle $w_0$ trick we see in class (see next question)\n",
    "\n",
    "#### What does each row of tx represent ?\n",
    "each row of tx is an input sample. \n",
    "\n",
    "#### Why do we have 1's in tx ?\n",
    "We have 1's because of the litle trick we use to put the $w_0$ inside the matrix multiplication. $w_0$ is multiplicated with $1$ and we get $w_0 +  w_1x_1 + ...+ w_nx_n$.\n",
    "\n",
    "#### If we have heights and weights of 3 people, what would be the size of y and tx ? What would tx_32 represent ?\n",
    "If we have 3 inputs, we get 3 row in tx and then also 3 row in y. Because this model implies only 1 input dimension and we have D+1 column in tx. tx is a 3 rows 2 column and y a 3 rows 1 column. \n",
    "\n",
    "I suppose $tx_{32}$ is the element at the third row and the second column of $tx$. So it would be the height of the third sample\n",
    "\n",
    "\n",
    "\n",
    "\n",
    "### Exercise 1\n",
    "\n",
    "#### a) \n",
    "Now we will compute the MSE. Let us introduce the vector notation $e = y − tx\\cdot w$ , for given model parameters $w =[w_10, w_1]^T$. Prove that the MSE can also be rewritten in terms of the vector e, as $L(w) = ...$\n",
    "\n",
    "$e= y -tx\\cdot w \\rightarrow e_n = y_n - x_n\\cdot w = y_n - (w_0x_0+w_1x_1) = y_n -w_0 - w_1x_1$\n",
    "\n",
    "so\n",
    "\n",
    "$L(w) = \\frac{1}{2N}\\sum_{n=1}^N e_n^2$\n",
    "\n",
    "#### b) \n",
    "\n",
    "Fill in the the `compute_cost(y, tx, w)` function below, and test it with $w=[1, 2]^T$:"
   ]
  },
  {
   "cell_type": "code",
   "execution_count": 5,
   "metadata": {
    "collapsed": false
   },
   "outputs": [
    {
     "name": "stdout",
     "output_type": "stream",
     "text": [
      "(10000, 1)\n",
      "(10000, 2)\n",
      "(2, 1)\n"
     ]
    },
    {
     "data": {
      "text/plain": [
       "2694.4833658870843"
      ]
     },
     "execution_count": 5,
     "metadata": {},
     "output_type": "execute_result"
    }
   ],
   "source": [
    "def compute_loss(y, tx, w):\n",
    "   \n",
    "    y = y.reshape(-1, 1)\n",
    "    w = w.reshape(-1, 1)\n",
    "    \n",
    "    print(y.shape)\n",
    "    print(tx.shape)\n",
    "    print(w.shape)\n",
    "\n",
    "    e = y - tx.dot(w)\n",
    "\n",
    "    L = 1/(2*y.shape[0]) * np.square(e).sum()\n",
    "    #print(L)\n",
    "    \n",
    "    return L\n",
    "\n",
    "w = np.array([1, 2])\n",
    "compute_loss(y, tx, w)"
   ]
  },
  {
   "cell_type": "markdown",
   "metadata": {},
   "source": [
    "# 2. Grid Search"
   ]
  },
  {
   "cell_type": "markdown",
   "metadata": {},
   "source": [
    "Fill in the function `grid_search()` below:"
   ]
  },
  {
   "cell_type": "code",
   "execution_count": 5,
   "metadata": {
    "collapsed": false
   },
   "outputs": [],
   "source": [
    "def grid_search(y, tx, w0, w1):\n",
    "    \"\"\"Algorithm for grid search.\"\"\"\n",
    "    losses = np.zeros((len(w0), len(w1)))\n",
    "    # ***************************************************\n",
    "    # INSERT YOUR CODE HERE\n",
    "    # TODO: compute loss for each combination of w0 and w1.\n",
    "    \n",
    "    for i in range(len(w0)):\n",
    "        \n",
    "        for j in range(len(w1)):\n",
    "            \n",
    "            losses[i][j] = compute_loss(y, tx, np.array([w0[i], w1[j]]))   \n",
    "    \n",
    "    \n",
    "    # ***************************************************\n",
    "    return losses"
   ]
  },
  {
   "cell_type": "markdown",
   "metadata": {},
   "source": [
    "Let us play with the grid search demo now!"
   ]
  },
  {
   "cell_type": "code",
   "execution_count": 6,
   "metadata": {
    "collapsed": false
   },
   "outputs": [
    {
     "name": "stdout",
     "output_type": "stream",
     "text": [
      "Grid Search: loss*=42.42448314678248, w0*=66.66666666666669, w1*=16.666666666666686, execution time=0.011 seconds\n"
     ]
    },
    {
     "data": {
      "image/png": "[encoded data removed]",
      "text/plain": [
       "<matplotlib.figure.Figure at 0x7f5c1adde550>"
      ]
     },
     "metadata": {},
     "output_type": "display_data"
    }
   ],
   "source": [
    "from grid_search import generate_w, get_best_parameters\n",
    "from plots import grid_visualization\n",
    "import datetime\n",
    "\n",
    "# Generate the grid of parameters to be swept\n",
    "grid_w0, grid_w1 = generate_w(num_intervals=10)\n",
    "\n",
    "# Start the grid search\n",
    "start_time = datetime.datetime.now()\n",
    "grid_losses = grid_search(y, tx, grid_w0, grid_w1)\n",
    "\n",
    "# Select the best combinaison\n",
    "loss_star, w0_star, w1_star = get_best_parameters(grid_w0, grid_w1, grid_losses)\n",
    "end_time = datetime.datetime.now()\n",
    "execution_time = (end_time - start_time).total_seconds()\n",
    "\n",
    "# Print the results\n",
    "print(\"Grid Search: loss*={l}, w0*={w0}, w1*={w1}, execution time={t:.3f} seconds\".format(\n",
    "      l=loss_star, w0=w0_star, w1=w1_star, t=execution_time))\n",
    "\n",
    "# Plot the results\n",
    "fig = grid_visualization(grid_losses, grid_w0, grid_w1, mean_x, std_x, height, weight)\n",
    "fig.set_size_inches(10.0,6.0)\n",
    "fig.savefig(\"grid_plot\")  # Optional saving"
   ]
  },
  {
   "cell_type": "markdown",
   "metadata": {},
   "source": [
    "### b)\n",
    "\n",
    "We don't have here a good estimate. Having a look on the right graph we feel the red ligne not so good. As we can see, the left graph is not smooth because we are taking only a few value of w0 and w1. \n",
    "\n",
    "As we know MSE convex we deduce the minimum inside the dark blue zone, but this zone is not well defined. \n",
    "\n",
    "We can inprove the results by increase the number of w0 and w1 value (increase the grid). This will take more calculation time but probably give better loss*. \n",
    "\n",
    "More of that we could reduce the w0 and w1 intervals, taking for example w0 from -50 to 150 in the first time. \n",
    "\n",
    "\n",
    "\n",
    "\n",
    "\n",
    "# 3. Gradient Descent"
   ]
  },
  {
   "cell_type": "markdown",
   "metadata": {},
   "source": [
    "### a)\n",
    "\n",
    "Again, please fill in the functions `compute_gradient` below:"
   ]
  },
  {
   "cell_type": "code",
   "execution_count": 31,
   "metadata": {
    "collapsed": false
   },
   "outputs": [],
   "source": [
    "def compute_gradient(y, tx, w):\n",
    "    \"\"\"Compute the gradient.\"\"\"\n",
    "\n",
    "    \n",
    "    y = y.reshape(-1, 1)\n",
    "    w = w.reshape(-1, 1)\n",
    "    \n",
    "    e = y - tx.dot(w)\n",
    "\n",
    "    gradL = -1/y.shape[0] * (tx.transpose().dot(e))\n",
    "\n",
    "    return gradL\n",
    "\n"
   ]
  },
  {
   "cell_type": "markdown",
   "metadata": {},
   "source": [
    "### b)\n",
    "\n",
    "get some intuition about the gradient values : so I compute the gradient for : \n",
    "\n",
    "$w_0 = 100$ and $w_1 = 20$\n",
    "\n",
    "$w_0=50$ and $w_1 = 10$"
   ]
  },
  {
   "cell_type": "code",
   "execution_count": 30,
   "metadata": {
    "collapsed": false
   },
   "outputs": [
    {
     "name": "stdout",
     "output_type": "stream",
     "text": [
      "(10000,)\n",
      "(10000, 2)\n",
      "[[ 26.706078  ]\n",
      " [  6.52028757]]\n",
      "\n",
      "\n",
      "(10000,)\n",
      "(10000, 2)\n",
      "[[-23.293922  ]\n",
      " [ -3.47971243]]\n"
     ]
    }
   ],
   "source": [
    "print(compute_gradient(y, tx, np.array([100, 20])))\n",
    "print(\"\\n\")\n",
    "print(compute_gradient(y, tx, np.array([50, 10])))"
   ]
  },
  {
   "cell_type": "markdown",
   "metadata": {},
   "source": [
    "The gradient is the variation of a function with respect of its parameters variation. It expresse how quickly does $L(w)$ change depending on variable $w$\n",
    "\n",
    "The gradient of a local extremum is 0. \n"
   ]
  },
  {
   "cell_type": "markdown",
   "metadata": {},
   "source": [
    "### c)\n",
    "Please fill in the functions `gradient_descent` below:"
   ]
  },
  {
   "cell_type": "code",
   "execution_count": 9,
   "metadata": {
    "collapsed": true
   },
   "outputs": [],
   "source": [
    "def gradient_descent(y, tx, initial_w, max_iters, gamma): \n",
    "    \"\"\"Gradient descent algorithm.\"\"\"\n",
    "    # Define parameters to store w and loss\n",
    "    y = y.reshape(-1, 1)\n",
    "    initial_w = initial_w.reshape(-1, 1)\n",
    "    \n",
    "    ws = [initial_w]\n",
    "    losses = []\n",
    "    w = initial_w\n",
    "        \n",
    "    for n_iter in range(max_iters):\n",
    "        \n",
    "        #compute gradient and loss\n",
    "        loss = compute_loss(y, tx, w)\n",
    "        gradient = compute_gradient(y, tx, w)    \n",
    "        \n",
    "        #update w by gradient\n",
    "        w = w - gamma * gradient\n",
    "        \n",
    "        # store w and loss\n",
    "        ws.append(np.copy(w))\n",
    "        losses.append(loss)\n",
    "        print(\"Gradient Descent({bi}/{ti}): loss={l}, w0={w0}, w1={w1}\".format(\n",
    "              bi=n_iter, ti=max_iters - 1, l=loss, w0=w[0], w1=w[1]))\n",
    "\n",
    "    return losses, ws"
   ]
  },
  {
   "cell_type": "markdown",
   "metadata": {},
   "source": [
    "Test your gradient descent function through gradient descent demo shown below:"
   ]
  },
  {
   "cell_type": "code",
   "execution_count": 10,
   "metadata": {
    "collapsed": false
   },
   "outputs": [
    {
     "name": "stdout",
     "output_type": "stream",
     "text": [
      "Gradient Descent(0/9): loss=1062606.4462798769, w0=[ 62.56098278], w1=[ 23.34491531]\n",
      "Gradient Descent(1/9): loss=121.64499390798603, w0=[ 73.18659261], w1=[ 13.57836446]\n",
      "Gradient Descent(2/9): loss=15.396513779433311, w0=[ 73.29284871], w1=[ 13.48069896]\n",
      "Gradient Descent(3/9): loss=15.38588893142046, w0=[ 73.29391127], w1=[ 13.4797223]\n",
      "Gradient Descent(4/9): loss=15.38588786893566, w0=[ 73.29392189], w1=[ 13.47971253]\n",
      "Gradient Descent(5/9): loss=15.38588786882941, w0=[ 73.293922], w1=[ 13.47971244]\n",
      "Gradient Descent(6/9): loss=15.385887868829402, w0=[ 73.293922], w1=[ 13.47971243]\n",
      "Gradient Descent(7/9): loss=15.385887868829402, w0=[ 73.293922], w1=[ 13.47971243]\n",
      "Gradient Descent(8/9): loss=15.385887868829402, w0=[ 73.293922], w1=[ 13.47971243]\n",
      "Gradient Descent(9/9): loss=15.385887868829402, w0=[ 73.293922], w1=[ 13.47971243]\n",
      "Gradient Descent: execution time=0.017 seconds\n"
     ]
    }
   ],
   "source": [
    "from plots import gradient_descent_visualization\n",
    "\n",
    "# Define the parameters of the algorithm.\n",
    "max_iters = 10\n",
    "gamma = 0.99\n",
    "\n",
    "# Initialization\n",
    "w_initial = np.array([-1000.0, 1000.0])\n",
    "\n",
    "# Start gradient descent.\n",
    "start_time = datetime.datetime.now()\n",
    "gradient_losses, gradient_ws = gradient_descent(y, tx, w_initial, max_iters, gamma)\n",
    "end_time = datetime.datetime.now()\n",
    "\n",
    "# Print result\n",
    "exection_time = (end_time - start_time).total_seconds()\n",
    "print(\"Gradient Descent: execution time={t:.3f} seconds\".format(t=exection_time))"
   ]
  },
  {
   "cell_type": "code",
   "execution_count": 11,
   "metadata": {
    "collapsed": false
   },
   "outputs": [
    {
     "data": {
      "image/png": "[encoded data removed]",
      "text/plain": [
       "<matplotlib.figure.Figure at 0x7f5c15cdeb70>"
      ]
     },
     "metadata": {},
     "output_type": "display_data"
    }
   ],
   "source": [
    "# Time Visualization\n",
    "from ipywidgets import IntSlider, interact\n",
    "def plot_figure(n_iter):\n",
    "    fig = gradient_descent_visualization(\n",
    "        gradient_losses, gradient_ws, grid_losses, grid_w0, grid_w1, mean_x, std_x, height, weight, n_iter)\n",
    "    fig.set_size_inches(10.0, 6.0)\n",
    "\n",
    "interact(plot_figure, n_iter=IntSlider(min=1, max=len(gradient_ws)))"
   ]
  },
  {
   "cell_type": "markdown",
   "metadata": {},
   "source": [
    "The cost seems to be minimized, because from step 44 to 49 from the descend algorithm, the cost is not improved any more with this kind of precision. So the gradient must be very small (very very close to zero). So we see the algorithm is converging, and the convergence speed is not so bad because \"only\" 45 steps are mandatory in our case to reach nearly the fixed point. We will see in d) if we can be faster \n",
    "\n",
    "the final values of w is pretty good for me. the intuition of the red line in the right graph show it. \n",
    "\n",
    "### d)\n",
    "\n",
    "Let just varying the $\\gamma$ value. \n",
    "\n",
    "let $\\gamma = 0.001$, the algorithm converge also but need a lot of steps I ve tried 10000 and the algorithm has still not reach the fixed point.  \n",
    "\n",
    "let $\\gamma = 0.01$ ,the algorithm converge also and need less steps (about 1000) to reach the fixed point\n",
    "\n",
    "let $\\gamma = 0.5$, the algorithm reachs the fixed point after 33 steps, so better than the default 0.4. \n",
    "\n",
    "let $\\gamma = 1$, the algorithm reachs the fixed point in 1 step, certainly the best gamma parameter we could choose\n",
    "\n",
    "let $\\gamma = 2$, the algorithm jump here, it's not converging any more. keeping the same loos it switch at each step from a wA to a wB and back to wA\n",
    "\n",
    "let $\\gamma = 2.5$, this time the alogrithm diverges to astronomical values from step to step.  \n",
    "\n",
    "\n",
    "now we fix $\\gamma=0.1$ and we varying $w_0$ and $w_1$\n",
    "\n",
    "$w_0 = 0$ and $w_1 = 0$, the algorithm converge with aprox 220 step. \n",
    "\n",
    "$w_0 = 100$ and $w_1 = 10$, the algorithm also converge with aprox 220 setp too\n",
    "\n",
    "$w_0 = -1000$ and $w_1 = 1000$, the algorithm need a bit more step (250) but still converging.\n",
    "\n",
    "I deduce the starting $w$ is not very important because after few step we are already in the neighborhood of the fixed point. In our case the best are for \n",
    "$w_0 \\approx 73.29$ and $w_1 \\approx 13.50$, we need less steps to pass from 1000 to 73 than from 73 to 73.29  "
   ]
  },
  {
   "cell_type": "markdown",
   "metadata": {},
   "source": [
    "# 4. Stochastic gradient descent"
   ]
  },
  {
   "cell_type": "code",
   "execution_count": 79,
   "metadata": {
    "collapsed": false
   },
   "outputs": [],
   "source": [
    "def compute_stoch_gradient(y, tx, w):\n",
    "    \"\"\"Compute a stochastic gradient for batch data.\"\"\"\n",
    "    # ***************************************************\n",
    "    # INSERT YOUR CODE HERE\n",
    "    # TODO: implement stochastic gradient computation.It's same as the gradient descent.\n",
    "    # ***************************************************\n",
    "    \n",
    "    y = y.reshape(-1, 1)\n",
    "    w = w.reshape(-1, 1)\n",
    "    \n",
    "    e = y - tx.dot(w)\n",
    "\n",
    "    gradL = -1/y.shape[0] * (tx.transpose().dot(e))\n",
    "\n",
    "    return gradL\n",
    "\n",
    "\n",
    "def stochastic_gradient_descent(y, tx, initial_w, batch_size, max_epochs, gamma):\n",
    "    \"\"\"Stochastic gradient descent algorithm.\"\"\"\n",
    "    # ***************************************************\n",
    "    # INSERT YOUR CODE HERE\n",
    "    # TODO: implement stochastic gradient descent.\n",
    "    # ***************************************************\n",
    "    \n",
    "    # Define parameters to store w and loss\n",
    "    y = y.reshape(-1, 1)\n",
    "    initial_w = initial_w.reshape(-1, 1)\n",
    "    \n",
    "    ws = [initial_w]\n",
    "    losses = []\n",
    "    w = initial_w\n",
    "        \n",
    "    for n_iter in range(max_epochs):\n",
    "        \n",
    "        #compute gradient and loss\n",
    "        j = 0   \n",
    "        for minibatch_y, minibatch_tx in batch_iter(y, tx, batch_size, num_batches=5):\n",
    "            j+=1\n",
    "            gradient = compute_stoch_gradient(minibatch_y, minibatch_tx, w) \n",
    "            loss = compute_loss(minibatch_y, minibatch_tx, w)\n",
    "            \n",
    "            #update w by gradient\n",
    "            w = w - gamma * gradient\n",
    "        \n",
    "            # store w and loss\n",
    "            ws.append(np.copy(w))\n",
    "            losses.append(loss)\n",
    "            print(\"Gradient Descent(epoch :{bi}/{ti}): minibatch={m} loss={l}, w0={w0}, w1={w1}\".format(\n",
    "                  bi=n_iter, ti=max_iters - 1, m=j, l=loss, w0=w[0], w1=w[1]))\n",
    "\n",
    "    return losses, ws"
   ]
  },
  {
   "cell_type": "code",
   "execution_count": 82,
   "metadata": {
    "collapsed": false
   },
   "outputs": [
    {
     "name": "stdout",
     "output_type": "stream",
     "text": [
      "Gradient Descent(epoch :0/49): minibatch=1 loss=2436.771307707587, w0=[ 41.02988309], w1=[-11.62851435]\n",
      "Gradient Descent(epoch :0/49): minibatch=2 loss=1344.7454531950825, w0=[ 69.11821727], w1=[ 9.88886138]\n",
      "Gradient Descent(epoch :0/49): minibatch=3 loss=13.955464906122334, w0=[ 71.19593322], w1=[ 12.11371981]\n",
      "Gradient Descent(epoch :0/49): minibatch=4 loss=37.380260839188935, w0=[ 73.71789785], w1=[ 11.87446033]\n",
      "Gradient Descent(epoch :0/49): minibatch=5 loss=6.458231801850129, w0=[ 73.83956202], w1=[ 11.32419939]\n",
      "Gradient Descent(epoch :1/49): minibatch=1 loss=21.298432412396906, w0=[ 73.18885889], w1=[ 12.01833485]\n",
      "Gradient Descent(epoch :1/49): minibatch=2 loss=33.021599130310754, w0=[ 74.82381403], w1=[ 14.03563374]\n",
      "Gradient Descent(epoch :1/49): minibatch=3 loss=23.2172067565181, w0=[ 71.5414504], w1=[ 14.18548047]\n",
      "Gradient Descent(epoch :1/49): minibatch=4 loss=12.792520733011246, w0=[ 73.80768441], w1=[ 13.85390725]\n",
      "Gradient Descent(epoch :1/49): minibatch=5 loss=33.389550746752995, w0=[ 69.88442205], w1=[ 14.02269861]\n",
      "Gradient Descent(epoch :2/49): minibatch=1 loss=9.521479024896584, w0=[ 70.97422646], w1=[ 14.08246112]\n",
      "Gradient Descent(epoch :2/49): minibatch=2 loss=24.027404630705206, w0=[ 73.36798303], w1=[ 13.78997744]\n",
      "Gradient Descent(epoch :2/49): minibatch=3 loss=7.7636698245232925, w0=[ 73.01248322], w1=[ 12.65474356]\n",
      "Gradient Descent(epoch :2/49): minibatch=4 loss=13.574647108212089, w0=[ 70.91555228], w1=[ 14.63791278]\n",
      "Gradient Descent(epoch :2/49): minibatch=5 loss=23.764525100118227, w0=[ 72.31987459], w1=[ 11.79921853]\n",
      "Gradient Descent(epoch :3/49): minibatch=1 loss=39.045272786781794, w0=[ 73.08304488], w1=[ 10.05538915]\n",
      "Gradient Descent(epoch :3/49): minibatch=2 loss=13.892661249018392, w0=[ 73.46544021], w1=[ 12.14528047]\n",
      "Gradient Descent(epoch :3/49): minibatch=3 loss=13.557249954040532, w0=[ 72.02277876], w1=[ 13.1206402]\n",
      "Gradient Descent(epoch :3/49): minibatch=4 loss=26.666278720876974, w0=[ 72.57155745], w1=[ 11.48286932]\n",
      "Gradient Descent(epoch :3/49): minibatch=5 loss=11.450546362721836, w0=[ 73.01389379], w1=[ 10.09712955]\n",
      "Gradient Descent(epoch :4/49): minibatch=1 loss=19.852529430564182, w0=[ 76.30009186], w1=[ 12.00552481]\n",
      "Gradient Descent(epoch :4/49): minibatch=2 loss=9.71075217814394, w0=[ 75.72533133], w1=[ 12.5759624]\n",
      "Gradient Descent(epoch :4/49): minibatch=3 loss=16.8364859299155, w0=[ 75.11014506], w1=[ 10.01291519]\n",
      "Gradient Descent(epoch :4/49): minibatch=4 loss=36.95128041065853, w0=[ 71.57911822], w1=[ 9.93378763]\n",
      "Gradient Descent(epoch :4/49): minibatch=5 loss=16.545720591823237, w0=[ 71.84127704], w1=[ 9.2653973]\n",
      "Gradient Descent(epoch :5/49): minibatch=1 loss=5.694293113975943, w0=[ 71.14376534], w1=[ 10.1092886]\n",
      "Gradient Descent(epoch :5/49): minibatch=2 loss=10.149438673408916, w0=[ 72.26516698], w1=[ 11.92217721]\n",
      "Gradient Descent(epoch :5/49): minibatch=3 loss=15.001991524348597, w0=[ 71.39780507], w1=[ 11.71423748]\n",
      "Gradient Descent(epoch :5/49): minibatch=4 loss=22.559393325358926, w0=[ 72.52962888], w1=[ 11.33213772]\n",
      "Gradient Descent(epoch :5/49): minibatch=5 loss=26.291971400375076, w0=[ 69.14519425], w1=[ 10.02992368]\n",
      "Gradient Descent(epoch :6/49): minibatch=1 loss=25.614210679595192, w0=[ 72.36580363], w1=[ 9.27451806]\n",
      "Gradient Descent(epoch :6/49): minibatch=2 loss=5.231834335049168, w0=[ 73.28614871], w1=[ 10.456024]\n",
      "Gradient Descent(epoch :6/49): minibatch=3 loss=40.65172695224422, w0=[ 69.66755721], w1=[ 13.0256526]\n",
      "Gradient Descent(epoch :6/49): minibatch=4 loss=3.970453703215279, w0=[ 69.28841906], w1=[ 13.45002429]\n",
      "Gradient Descent(epoch :6/49): minibatch=5 loss=42.11990480577517, w0=[ 73.16769597], w1=[ 15.86065743]\n",
      "Gradient Descent(epoch :7/49): minibatch=1 loss=8.726111724263111, w0=[ 71.70502845], w1=[ 16.54862033]\n",
      "Gradient Descent(epoch :7/49): minibatch=2 loss=26.327965845625318, w0=[ 72.61916153], w1=[ 16.99433048]\n",
      "Gradient Descent(epoch :7/49): minibatch=3 loss=10.252358009287361, w0=[ 71.8338189], w1=[ 17.41892279]\n",
      "Gradient Descent(epoch :7/49): minibatch=4 loss=47.03898745593527, w0=[ 72.9802736], w1=[ 12.8316736]\n",
      "Gradient Descent(epoch :7/49): minibatch=5 loss=10.624497327441016, w0=[ 72.06458374], w1=[ 12.20121817]\n",
      "Gradient Descent(epoch :8/49): minibatch=1 loss=3.9795427403195447, w0=[ 72.2930603], w1=[ 13.28412489]\n",
      "Gradient Descent(epoch :8/49): minibatch=2 loss=21.01760366758692, w0=[ 73.29770933], w1=[ 13.35969044]\n",
      "Gradient Descent(epoch :8/49): minibatch=3 loss=2.210570451737778, w0=[ 74.09778891], w1=[ 13.37930171]\n",
      "Gradient Descent(epoch :8/49): minibatch=4 loss=17.68232970706534, w0=[ 76.71325209], w1=[ 11.01699965]\n",
      "Gradient Descent(epoch :8/49): minibatch=5 loss=35.544817676974816, w0=[ 72.01683587], w1=[ 10.10192176]\n",
      "Gradient Descent(epoch :9/49): minibatch=1 loss=10.490605903097796, w0=[ 73.00915379], w1=[ 11.00598816]\n",
      "Gradient Descent(epoch :9/49): minibatch=2 loss=25.58764376141771, w0=[ 70.99649209], w1=[ 13.69017047]\n",
      "Gradient Descent(epoch :9/49): minibatch=3 loss=31.872736766917416, w0=[ 74.3518492], w1=[ 12.40012506]\n",
      "Gradient Descent(epoch :9/49): minibatch=4 loss=30.750778881252593, w0=[ 72.63297937], w1=[ 14.41417925]\n",
      "Gradient Descent(epoch :9/49): minibatch=5 loss=11.99874100022844, w0=[ 73.21184266], w1=[ 11.75801483]\n",
      "Gradient Descent(epoch :10/49): minibatch=1 loss=14.709464227047249, w0=[ 71.3537842], w1=[ 14.61215922]\n",
      "Gradient Descent(epoch :10/49): minibatch=2 loss=12.263997821350777, w0=[ 72.58803899], w1=[ 14.71759178]\n",
      "Gradient Descent(epoch :10/49): minibatch=3 loss=24.126553099667177, w0=[ 73.61510614], w1=[ 14.55684396]\n",
      "Gradient Descent(epoch :10/49): minibatch=4 loss=13.05305107193511, w0=[ 72.42402568], w1=[ 13.81051695]\n",
      "Gradient Descent(epoch :10/49): minibatch=5 loss=33.64634284715579, w0=[ 74.17111731], w1=[ 13.67291228]\n",
      "Gradient Descent(epoch :11/49): minibatch=1 loss=19.85733184566265, w0=[ 74.88428712], w1=[ 12.42632134]\n",
      "Gradient Descent(epoch :11/49): minibatch=2 loss=19.516160615137295, w0=[ 74.64296041], w1=[ 14.1773934]\n",
      "Gradient Descent(epoch :11/49): minibatch=3 loss=12.746531765086942, w0=[ 73.58019647], w1=[ 12.8967848]\n",
      "Gradient Descent(epoch :11/49): minibatch=4 loss=12.860221628177465, w0=[ 71.38816307], w1=[ 11.20633201]\n",
      "Gradient Descent(epoch :11/49): minibatch=5 loss=20.40126065196582, w0=[ 74.77641618], w1=[ 14.69504125]\n",
      "Gradient Descent(epoch :12/49): minibatch=1 loss=20.226936626969593, w0=[ 72.4268536], w1=[ 12.28179007]\n",
      "Gradient Descent(epoch :12/49): minibatch=2 loss=12.317266518191758, w0=[ 73.73845174], w1=[ 10.51328832]\n",
      "Gradient Descent(epoch :12/49): minibatch=3 loss=26.611257282731362, w0=[ 71.55522834], w1=[ 13.34694557]\n",
      "Gradient Descent(epoch :12/49): minibatch=4 loss=43.65814051232363, w0=[ 76.15878083], w1=[ 15.30210713]\n",
      "Gradient Descent(epoch :12/49): minibatch=5 loss=6.655776560851727, w0=[ 74.61444164], w1=[ 13.82224996]\n",
      "Gradient Descent(epoch :13/49): minibatch=1 loss=5.014008290285489, w0=[ 75.16643028], w1=[ 13.29861743]\n",
      "Gradient Descent(epoch :13/49): minibatch=2 loss=9.47972623677386, w0=[ 74.58502474], w1=[ 14.01797611]\n",
      "Gradient Descent(epoch :13/49): minibatch=3 loss=4.429073170072672, w0=[ 73.50241251], w1=[ 14.07182531]\n",
      "Gradient Descent(epoch :13/49): minibatch=4 loss=18.89630239048531, w0=[ 73.39809876], w1=[ 15.02831967]\n",
      "Gradient Descent(epoch :13/49): minibatch=5 loss=39.59064268453557, w0=[ 74.14851439], w1=[ 11.21118702]\n",
      "Gradient Descent(epoch :14/49): minibatch=1 loss=15.160619282469685, w0=[ 72.79713399], w1=[ 12.64666512]\n",
      "Gradient Descent(epoch :14/49): minibatch=2 loss=21.869073374703852, w0=[ 73.76294691], w1=[ 12.5583273]\n",
      "Gradient Descent(epoch :14/49): minibatch=3 loss=3.1538631997415383, w0=[ 72.85927816], w1=[ 11.52053531]\n",
      "Gradient Descent(epoch :14/49): minibatch=4 loss=4.411009266812055, w0=[ 71.5138268], w1=[ 12.54222098]\n",
      "Gradient Descent(epoch :14/49): minibatch=5 loss=36.006158760630214, w0=[ 73.55009988], w1=[ 12.42759622]\n",
      "Gradient Descent(epoch :15/49): minibatch=1 loss=11.557878881738366, w0=[ 73.14207216], w1=[ 8.82768433]\n",
      "Gradient Descent(epoch :15/49): minibatch=2 loss=21.445764416721147, w0=[ 76.04410821], w1=[ 9.61027739]\n",
      "Gradient Descent(epoch :15/49): minibatch=3 loss=16.997459673850262, w0=[ 78.93214056], w1=[ 11.70725249]\n",
      "Gradient Descent(epoch :15/49): minibatch=4 loss=24.429294896131584, w0=[ 75.20208979], w1=[ 16.11009723]\n",
      "Gradient Descent(epoch :15/49): minibatch=5 loss=9.972987667204874, w0=[ 75.81297865], w1=[ 15.55699069]\n",
      "Gradient Descent(epoch :16/49): minibatch=1 loss=11.149613678610734, w0=[ 74.99460472], w1=[ 16.02660496]\n",
      "Gradient Descent(epoch :16/49): minibatch=2 loss=24.32896023077317, w0=[ 77.51894537], w1=[ 11.40590755]\n",
      "Gradient Descent(epoch :16/49): minibatch=3 loss=14.974408823477527, w0=[ 75.71481215], w1=[ 13.94942965]\n",
      "Gradient Descent(epoch :16/49): minibatch=4 loss=22.276322591161808, w0=[ 72.93600426], w1=[ 13.08413932]\n",
      "Gradient Descent(epoch :16/49): minibatch=5 loss=4.039950063628516, w0=[ 73.22092114], w1=[ 14.0095073]\n",
      "Gradient Descent(epoch :17/49): minibatch=1 loss=10.069571662540476, w0=[ 72.85169793], w1=[ 12.14125261]\n",
      "Gradient Descent(epoch :17/49): minibatch=2 loss=10.49996743473967, w0=[ 72.21878695], w1=[ 13.61961566]\n",
      "Gradient Descent(epoch :17/49): minibatch=3 loss=20.724554954142633, w0=[ 74.42078244], w1=[ 14.14026424]\n",
      "Gradient Descent(epoch :17/49): minibatch=4 loss=10.333757160033695, w0=[ 73.32637528], w1=[ 12.68890424]\n",
      "Gradient Descent(epoch :17/49): minibatch=5 loss=8.765473427002645, w0=[ 73.86380778], w1=[ 12.17648373]\n",
      "Gradient Descent(epoch :18/49): minibatch=1 loss=5.997394440026113, w0=[ 72.75848331], w1=[ 12.72477136]\n",
      "Gradient Descent(epoch :18/49): minibatch=2 loss=8.662117663108717, w0=[ 74.2612338], w1=[ 13.4194385]\n",
      "Gradient Descent(epoch :18/49): minibatch=3 loss=12.623469137230261, w0=[ 73.99676368], w1=[ 14.91712478]\n",
      "Gradient Descent(epoch :18/49): minibatch=4 loss=17.721008854794935, w0=[ 71.57363602], w1=[ 12.38478198]\n",
      "Gradient Descent(epoch :18/49): minibatch=5 loss=27.094145973999556, w0=[ 70.81002037], w1=[ 14.05267343]\n",
      "Gradient Descent(epoch :19/49): minibatch=1 loss=8.650973480003199, w0=[ 72.34243832], w1=[ 13.66071327]\n",
      "Gradient Descent(epoch :19/49): minibatch=2 loss=28.511527119844494, w0=[ 74.20555007], w1=[ 12.73413646]\n",
      "Gradient Descent(epoch :19/49): minibatch=3 loss=8.76560057346328, w0=[ 74.3785159], w1=[ 12.76916674]\n",
      "Gradient Descent(epoch :19/49): minibatch=4 loss=16.7280949142289, w0=[ 71.8354834], w1=[ 11.04570512]\n",
      "Gradient Descent(epoch :19/49): minibatch=5 loss=18.955782666949055, w0=[ 70.47975413], w1=[ 13.67173686]\n",
      "Gradient Descent(epoch :20/49): minibatch=1 loss=22.68835595755542, w0=[ 72.16550745], w1=[ 13.67607179]\n",
      "Gradient Descent(epoch :20/49): minibatch=2 loss=26.638950887446647, w0=[ 74.66614779], w1=[ 14.23184355]\n",
      "Gradient Descent(epoch :20/49): minibatch=3 loss=21.06589716629493, w0=[ 71.94762171], w1=[ 14.4628821]\n",
      "Gradient Descent(epoch :20/49): minibatch=4 loss=8.508659265223974, w0=[ 73.56249705], w1=[ 13.28659401]\n",
      "Gradient Descent(epoch :20/49): minibatch=5 loss=21.679222377600972, w0=[ 75.71246613], w1=[ 14.6465478]\n",
      "Gradient Descent(epoch :21/49): minibatch=1 loss=5.257420369383811, w0=[ 77.17301266], w1=[ 14.11494837]\n",
      "Gradient Descent(epoch :21/49): minibatch=2 loss=14.30456192477274, w0=[ 75.19593155], w1=[ 13.29102793]\n",
      "Gradient Descent(epoch :21/49): minibatch=3 loss=6.414842348786151, w0=[ 74.06491393], w1=[ 14.94518077]\n",
      "Gradient Descent(epoch :21/49): minibatch=4 loss=5.734688099662472, w0=[ 73.79344027], w1=[ 14.54736376]\n",
      "Gradient Descent(epoch :21/49): minibatch=5 loss=46.23260049801605, w0=[ 73.58284924], w1=[ 14.56755555]\n",
      "Gradient Descent(epoch :22/49): minibatch=1 loss=10.950652160948515, w0=[ 76.22854664], w1=[ 13.96638083]\n",
      "Gradient Descent(epoch :22/49): minibatch=2 loss=19.68094183280777, w0=[ 75.86307011], w1=[ 12.40958367]\n",
      "Gradient Descent(epoch :22/49): minibatch=3 loss=16.160502617035537, w0=[ 75.62356531], w1=[ 12.2042563]\n",
      "Gradient Descent(epoch :22/49): minibatch=4 loss=27.959460848764436, w0=[ 74.91698635], w1=[ 12.99640604]\n",
      "Gradient Descent(epoch :22/49): minibatch=5 loss=3.98953094299013, w0=[ 74.98495142], w1=[ 13.28036438]\n",
      "Gradient Descent(epoch :23/49): minibatch=1 loss=9.058741781935636, w0=[ 74.41702636], w1=[ 12.27030686]\n",
      "Gradient Descent(epoch :23/49): minibatch=2 loss=20.10484054318734, w0=[ 75.25983479], w1=[ 12.50770054]\n",
      "Gradient Descent(epoch :23/49): minibatch=3 loss=14.953979908404856, w0=[ 75.03169964], w1=[ 12.85387789]\n",
      "Gradient Descent(epoch :23/49): minibatch=4 loss=5.540599505592823, w0=[ 74.96744776], w1=[ 12.30286438]\n",
      "Gradient Descent(epoch :23/49): minibatch=5 loss=14.116492643147744, w0=[ 75.1727929], w1=[ 11.60581909]\n",
      "Gradient Descent(epoch :24/49): minibatch=1 loss=38.715408827723934, w0=[ 73.88934998], w1=[ 12.97628453]\n",
      "Gradient Descent(epoch :24/49): minibatch=2 loss=8.235390961001483, w0=[ 73.58400225], w1=[ 13.71782123]\n",
      "Gradient Descent(epoch :24/49): minibatch=3 loss=9.319897461443782, w0=[ 74.7087213], w1=[ 14.60280331]\n",
      "Gradient Descent(epoch :24/49): minibatch=4 loss=3.838744636208774, w0=[ 75.3137782], w1=[ 14.64105155]\n",
      "Gradient Descent(epoch :24/49): minibatch=5 loss=28.558775768349957, w0=[ 72.86092844], w1=[ 15.51496014]\n",
      "Gradient Descent(epoch :25/49): minibatch=1 loss=17.794705645797233, w0=[ 70.85948968], w1=[ 15.35541269]\n",
      "Gradient Descent(epoch :25/49): minibatch=2 loss=16.54545497364698, w0=[ 71.33795696], w1=[ 15.96832546]\n",
      "Gradient Descent(epoch :25/49): minibatch=3 loss=8.23018160351366, w0=[ 72.28709508], w1=[ 17.15196631]\n",
      "Gradient Descent(epoch :25/49): minibatch=4 loss=15.286325266843981, w0=[ 72.04211063], w1=[ 17.07624769]\n",
      "Gradient Descent(epoch :25/49): minibatch=5 loss=20.95463019970677, w0=[ 73.32777918], w1=[ 15.25366609]\n",
      "Gradient Descent(epoch :26/49): minibatch=1 loss=6.1713437448422095, w0=[ 72.13912185], w1=[ 13.87266752]\n",
      "Gradient Descent(epoch :26/49): minibatch=2 loss=10.824379932624879, w0=[ 73.33916704], w1=[ 14.16915361]\n",
      "Gradient Descent(epoch :26/49): minibatch=3 loss=8.692613488737582, w0=[ 73.22365272], w1=[ 14.20591403]\n",
      "Gradient Descent(epoch :26/49): minibatch=4 loss=45.85972811642554, w0=[ 73.61531123], w1=[ 15.30741257]\n",
      "Gradient Descent(epoch :26/49): minibatch=5 loss=10.9857089572914, w0=[ 74.76183994], w1=[ 12.99235912]\n",
      "Gradient Descent(epoch :27/49): minibatch=1 loss=6.693062161868437, w0=[ 74.41501201], w1=[ 12.25173908]\n",
      "Gradient Descent(epoch :27/49): minibatch=2 loss=19.92272593417387, w0=[ 72.86858423], w1=[ 12.49887497]\n",
      "Gradient Descent(epoch :27/49): minibatch=3 loss=29.38118192568191, w0=[ 69.89087538], w1=[ 9.83884614]\n",
      "Gradient Descent(epoch :27/49): minibatch=4 loss=41.33058480359095, w0=[ 73.06300717], w1=[ 14.00450293]\n",
      "Gradient Descent(epoch :27/49): minibatch=5 loss=18.916961402902505, w0=[ 71.71342216], w1=[ 12.7396528]\n",
      "Gradient Descent(epoch :28/49): minibatch=1 loss=17.95965360043557, w0=[ 74.08739823], w1=[ 11.10181565]\n",
      "Gradient Descent(epoch :28/49): minibatch=2 loss=8.988156235875598, w0=[ 73.81220896], w1=[ 13.46621964]\n",
      "Gradient Descent(epoch :28/49): minibatch=3 loss=12.996126968592415, w0=[ 72.53325241], w1=[ 13.79007974]\n",
      "Gradient Descent(epoch :28/49): minibatch=4 loss=10.9541269822071, w0=[ 72.77105384], w1=[ 15.50091679]\n",
      "Gradient Descent(epoch :28/49): minibatch=5 loss=16.03990854815329, w0=[ 74.28508291], w1=[ 11.91151746]\n",
      "Gradient Descent(epoch :29/49): minibatch=1 loss=23.978936163959887, w0=[ 70.99835841], w1=[ 15.0163624]\n",
      "Gradient Descent(epoch :29/49): minibatch=2 loss=11.043354457634356, w0=[ 73.18821503], w1=[ 13.25991605]\n",
      "Gradient Descent(epoch :29/49): minibatch=3 loss=17.45081627506447, w0=[ 73.45378169], w1=[ 12.88425906]\n",
      "Gradient Descent(epoch :29/49): minibatch=4 loss=5.463232265052674, w0=[ 72.92521252], w1=[ 13.52289266]\n",
      "Gradient Descent(epoch :29/49): minibatch=5 loss=19.666749468483502, w0=[ 73.29734786], w1=[ 12.45287364]\n",
      "Gradient Descent(epoch :30/49): minibatch=1 loss=5.773237702688043, w0=[ 74.56640883], w1=[ 14.0586592]\n",
      "Gradient Descent(epoch :30/49): minibatch=2 loss=7.300145949758063, w0=[ 75.91849844], w1=[ 14.470318]\n",
      "Gradient Descent(epoch :30/49): minibatch=3 loss=21.17711643890189, w0=[ 78.81647235], w1=[ 12.02612386]\n",
      "Gradient Descent(epoch :30/49): minibatch=4 loss=25.787684743572555, w0=[ 76.22802336], w1=[ 14.4756127]\n",
      "Gradient Descent(epoch :30/49): minibatch=5 loss=54.3166567166364, w0=[ 71.89217298], w1=[ 11.6724075]\n",
      "Gradient Descent(epoch :31/49): minibatch=1 loss=9.84018779102944, w0=[ 71.42048559], w1=[ 12.61637497]\n",
      "Gradient Descent(epoch :31/49): minibatch=2 loss=21.073565312215287, w0=[ 69.7292252], w1=[ 12.24083961]\n",
      "Gradient Descent(epoch :31/49): minibatch=3 loss=8.68786860200675, w0=[ 71.96805768], w1=[ 13.31506271]\n",
      "Gradient Descent(epoch :31/49): minibatch=4 loss=3.3035071225761885, w0=[ 72.57980402], w1=[ 12.62371314]\n",
      "Gradient Descent(epoch :31/49): minibatch=5 loss=19.989277540041904, w0=[ 74.67750263], w1=[ 13.98925383]\n",
      "Gradient Descent(epoch :32/49): minibatch=1 loss=10.911152737378723, w0=[ 74.35702579], w1=[ 11.71828512]\n",
      "Gradient Descent(epoch :32/49): minibatch=2 loss=5.878373987305137, w0=[ 74.19864903], w1=[ 11.17891587]\n",
      "Gradient Descent(epoch :32/49): minibatch=3 loss=12.015404871476889, w0=[ 73.41603425], w1=[ 10.31466361]\n",
      "Gradient Descent(epoch :32/49): minibatch=4 loss=37.691716949313495, w0=[ 76.05518864], w1=[ 15.73504431]\n",
      "Gradient Descent(epoch :32/49): minibatch=5 loss=22.025897372721964, w0=[ 74.20873644], w1=[ 15.14734997]\n",
      "Gradient Descent(epoch :33/49): minibatch=1 loss=6.493111576105841, w0=[ 74.82247287], w1=[ 12.87693324]\n",
      "Gradient Descent(epoch :33/49): minibatch=2 loss=32.326767111405736, w0=[ 71.85944253], w1=[ 14.31483292]\n",
      "Gradient Descent(epoch :33/49): minibatch=3 loss=10.700526962472892, w0=[ 73.11631369], w1=[ 13.76509519]\n",
      "Gradient Descent(epoch :33/49): minibatch=4 loss=7.6293107361431725, w0=[ 74.00299415], w1=[ 11.41692835]\n",
      "Gradient Descent(epoch :33/49): minibatch=5 loss=19.356427586975908, w0=[ 76.32372267], w1=[ 13.73765654]\n",
      "Gradient Descent(epoch :34/49): minibatch=1 loss=4.622338898489608, w0=[ 75.00449237], w1=[ 14.95584422]\n",
      "Gradient Descent(epoch :34/49): minibatch=2 loss=29.482067927671423, w0=[ 73.27917812], w1=[ 15.51357353]\n",
      "Gradient Descent(epoch :34/49): minibatch=3 loss=17.528335415876587, w0=[ 75.57954971], w1=[ 11.6674029]\n",
      "Gradient Descent(epoch :34/49): minibatch=4 loss=2.4594529854430114, w0=[ 74.44700846], w1=[ 12.74888914]\n",
      "Gradient Descent(epoch :34/49): minibatch=5 loss=8.886669832728352, w0=[ 74.08248178], w1=[ 13.45268785]\n",
      "Gradient Descent(epoch :35/49): minibatch=1 loss=23.826528530204456, w0=[ 72.24458694], w1=[ 11.82973909]\n",
      "Gradient Descent(epoch :35/49): minibatch=2 loss=20.093933085520398, w0=[ 73.59375549], w1=[ 9.67453869]\n",
      "Gradient Descent(epoch :35/49): minibatch=3 loss=34.32604051723653, w0=[ 76.39456369], w1=[ 12.13383362]\n",
      "Gradient Descent(epoch :35/49): minibatch=4 loss=6.1711651390576785, w0=[ 75.18634546], w1=[ 12.92339734]\n",
      "Gradient Descent(epoch :35/49): minibatch=5 loss=16.745559705684084, w0=[ 75.46751171], w1=[ 12.96092202]\n",
      "Gradient Descent(epoch :36/49): minibatch=1 loss=30.965805466127183, w0=[ 76.66366278], w1=[ 13.94436636]\n",
      "Gradient Descent(epoch :36/49): minibatch=2 loss=30.83553535091954, w0=[ 73.26647069], w1=[ 15.03771606]\n",
      "Gradient Descent(epoch :36/49): minibatch=3 loss=8.79584099700213, w0=[ 73.2026835], w1=[ 15.709536]\n",
      "Gradient Descent(epoch :36/49): minibatch=4 loss=14.195313437040193, w0=[ 73.08514872], w1=[ 12.55270112]\n",
      "Gradient Descent(epoch :36/49): minibatch=5 loss=16.785551608125203, w0=[ 71.13093487], w1=[ 12.72278856]\n",
      "Gradient Descent(epoch :37/49): minibatch=1 loss=2.906208372233808, w0=[ 70.83503383], w1=[ 12.50285002]\n",
      "Gradient Descent(epoch :37/49): minibatch=2 loss=28.61888994672016, w0=[ 73.00760387], w1=[ 12.55611277]\n",
      "Gradient Descent(epoch :37/49): minibatch=3 loss=11.67453437777956, w0=[ 72.49865879], w1=[ 10.90935422]\n",
      "Gradient Descent(epoch :37/49): minibatch=4 loss=16.729709780037716, w0=[ 71.87459255], w1=[ 11.7638903]\n",
      "Gradient Descent(epoch :37/49): minibatch=5 loss=10.344898163696836, w0=[ 73.66499594], w1=[ 13.58461609]\n",
      "Gradient Descent(epoch :38/49): minibatch=1 loss=10.466618528695122, w0=[ 73.45854558], w1=[ 13.19622477]\n",
      "Gradient Descent(epoch :38/49): minibatch=2 loss=10.44333263278018, w0=[ 71.97648531], w1=[ 13.36966857]\n",
      "Gradient Descent(epoch :38/49): minibatch=3 loss=27.899147198169345, w0=[ 75.27733606], w1=[ 15.89039943]\n",
      "Gradient Descent(epoch :38/49): minibatch=4 loss=15.658156514305098, w0=[ 76.08666446], w1=[ 12.4956076]\n",
      "Gradient Descent(epoch :38/49): minibatch=5 loss=18.896149779442574, w0=[ 74.92964266], w1=[ 10.58612172]\n",
      "Gradient Descent(epoch :39/49): minibatch=1 loss=24.690543967298794, w0=[ 72.08131041], w1=[ 12.68487049]\n",
      "Gradient Descent(epoch :39/49): minibatch=2 loss=4.486996033766071, w0=[ 72.83578598], w1=[ 12.53939375]\n",
      "Gradient Descent(epoch :39/49): minibatch=3 loss=8.46046332746578, w0=[ 71.47727743], w1=[ 13.33032582]\n",
      "Gradient Descent(epoch :39/49): minibatch=4 loss=13.09364769977203, w0=[ 72.70207526], w1=[ 14.79674138]\n",
      "Gradient Descent(epoch :39/49): minibatch=5 loss=5.003631923579759, w0=[ 72.94040675], w1=[ 15.61224886]\n",
      "Gradient Descent(epoch :40/49): minibatch=1 loss=10.156065273849464, w0=[ 71.76028246], w1=[ 15.6049506]\n",
      "Gradient Descent(epoch :40/49): minibatch=2 loss=15.481599827326997, w0=[ 74.4045969], w1=[ 14.9637694]\n",
      "Gradient Descent(epoch :40/49): minibatch=3 loss=18.063118132238582, w0=[ 74.68892915], w1=[ 13.39242925]\n",
      "Gradient Descent(epoch :40/49): minibatch=4 loss=32.399607632107426, w0=[ 73.10825236], w1=[ 13.13592928]\n",
      "Gradient Descent(epoch :40/49): minibatch=5 loss=6.264314959009623, w0=[ 71.07314278], w1=[ 13.18328543]\n",
      "Gradient Descent(epoch :41/49): minibatch=1 loss=15.453889279892506, w0=[ 72.66812893], w1=[ 14.63424086]\n",
      "Gradient Descent(epoch :41/49): minibatch=2 loss=8.831522385461344, w0=[ 72.46452349], w1=[ 14.48999172]\n",
      "Gradient Descent(epoch :41/49): minibatch=3 loss=17.50357981383112, w0=[ 71.53860733], w1=[ 11.89654511]\n",
      "Gradient Descent(epoch :41/49): minibatch=4 loss=24.97922357062445, w0=[ 70.52806535], w1=[ 12.37787253]\n",
      "Gradient Descent(epoch :41/49): minibatch=5 loss=32.398392046226554, w0=[ 72.43184868], w1=[ 12.18702286]\n",
      "Gradient Descent(epoch :42/49): minibatch=1 loss=39.40065634538418, w0=[ 69.63072848], w1=[ 15.82018788]\n",
      "Gradient Descent(epoch :42/49): minibatch=2 loss=14.971794395893818, w0=[ 66.75123421], w1=[ 14.73280079]\n",
      "Gradient Descent(epoch :42/49): minibatch=3 loss=48.43032801486241, w0=[ 72.4107921], w1=[ 12.67999925]\n",
      "Gradient Descent(epoch :42/49): minibatch=4 loss=8.953623397766501, w0=[ 72.92000789], w1=[ 13.73183259]\n",
      "Gradient Descent(epoch :42/49): minibatch=5 loss=33.42298638770954, w0=[ 75.51929726], w1=[ 12.08577599]\n",
      "Gradient Descent(epoch :43/49): minibatch=1 loss=40.678975639329614, w0=[ 73.40437681], w1=[ 14.62160353]\n",
      "Gradient Descent(epoch :43/49): minibatch=2 loss=4.985597137842994, w0=[ 71.66875617], w1=[ 13.55290808]\n",
      "Gradient Descent(epoch :43/49): minibatch=3 loss=11.351533321686668, w0=[ 72.21658043], w1=[ 11.59075217]\n",
      "Gradient Descent(epoch :43/49): minibatch=4 loss=30.441113756165805, w0=[ 75.78035081], w1=[ 13.84728992]\n",
      "Gradient Descent(epoch :43/49): minibatch=5 loss=16.8206830993324, w0=[ 73.29032661], w1=[ 12.07713126]\n",
      "Gradient Descent(epoch :44/49): minibatch=1 loss=10.047749915178978, w0=[ 72.84150624], w1=[ 13.4206193]\n",
      "Gradient Descent(epoch :44/49): minibatch=2 loss=9.411016470637627, w0=[ 72.69961617], w1=[ 12.80502893]\n",
      "Gradient Descent(epoch :44/49): minibatch=3 loss=16.701461799420038, w0=[ 70.89046038], w1=[ 8.34193984]\n",
      "Gradient Descent(epoch :44/49): minibatch=4 loss=23.572943540322576, w0=[ 71.62952402], w1=[ 10.89678179]\n",
      "Gradient Descent(epoch :44/49): minibatch=5 loss=42.434194431008656, w0=[ 76.8970051], w1=[ 13.89614961]\n",
      "Gradient Descent(epoch :45/49): minibatch=1 loss=57.62218194988923, w0=[ 73.78315376], w1=[ 12.12416429]\n",
      "Gradient Descent(epoch :45/49): minibatch=2 loss=26.22402433956922, w0=[ 76.28317998], w1=[ 15.57520524]\n",
      "Gradient Descent(epoch :45/49): minibatch=3 loss=65.66455521494821, w0=[ 75.67405262], w1=[ 9.11777248]\n",
      "Gradient Descent(epoch :45/49): minibatch=4 loss=28.723598393675083, w0=[ 73.37097367], w1=[ 13.40567742]\n",
      "Gradient Descent(epoch :45/49): minibatch=5 loss=8.98440995505201, w0=[ 73.11472215], w1=[ 14.09613385]\n",
      "Gradient Descent(epoch :46/49): minibatch=1 loss=14.097486067458426, w0=[ 73.17922774], w1=[ 13.3332719]\n",
      "Gradient Descent(epoch :46/49): minibatch=2 loss=12.886516119061497, w0=[ 72.26283931], w1=[ 14.91134376]\n",
      "Gradient Descent(epoch :46/49): minibatch=3 loss=30.243754171373002, w0=[ 75.18758179], w1=[ 15.5445009]\n",
      "Gradient Descent(epoch :46/49): minibatch=4 loss=8.732751166991932, w0=[ 74.14567395], w1=[ 14.77236677]\n",
      "Gradient Descent(epoch :46/49): minibatch=5 loss=9.60079654463001, w0=[ 73.48763938], w1=[ 12.17399495]\n",
      "Gradient Descent(epoch :47/49): minibatch=1 loss=8.99140048160379, w0=[ 74.89969123], w1=[ 12.97226646]\n",
      "Gradient Descent(epoch :47/49): minibatch=2 loss=11.840625997913378, w0=[ 76.58528229], w1=[ 14.57697073]\n",
      "Gradient Descent(epoch :47/49): minibatch=3 loss=12.66067441660062, w0=[ 74.66200095], w1=[ 15.38066467]\n",
      "Gradient Descent(epoch :47/49): minibatch=4 loss=14.494533799876834, w0=[ 74.44273043], w1=[ 12.3377418]\n",
      "Gradient Descent(epoch :47/49): minibatch=5 loss=37.326478061855155, w0=[ 70.09884672], w1=[ 12.88348832]\n",
      "Gradient Descent(epoch :48/49): minibatch=1 loss=22.415580041037032, w0=[ 73.19979077], w1=[ 14.32128144]\n",
      "Gradient Descent(epoch :48/49): minibatch=2 loss=24.419180568763856, w0=[ 70.21452956], w1=[ 12.85930486]\n",
      "Gradient Descent(epoch :48/49): minibatch=3 loss=3.87270509037568, w0=[ 70.53490365], w1=[ 13.60338]\n",
      "Gradient Descent(epoch :48/49): minibatch=4 loss=15.54294275467124, w0=[ 72.58572536], w1=[ 12.91444178]\n",
      "Gradient Descent(epoch :48/49): minibatch=5 loss=28.46339243990484, w0=[ 72.96542372], w1=[ 14.91324451]\n",
      "Gradient Descent(epoch :49/49): minibatch=1 loss=18.495562583168773, w0=[ 71.43780202], w1=[ 15.33347084]\n",
      "Gradient Descent(epoch :49/49): minibatch=2 loss=14.742691163969083, w0=[ 72.9856356], w1=[ 12.86678505]\n",
      "Gradient Descent(epoch :49/49): minibatch=3 loss=18.496024978528443, w0=[ 74.3785981], w1=[ 11.53102097]\n",
      "Gradient Descent(epoch :49/49): minibatch=4 loss=19.47708420266601, w0=[ 73.31488082], w1=[ 14.06508893]\n",
      "Gradient Descent(epoch :49/49): minibatch=5 loss=5.0297027675825134, w0=[ 74.05177809], w1=[ 13.442243]\n",
      "SGD: execution time=0.153 seconds\n"
     ]
    }
   ],
   "source": [
    "# Define the parameters of the algorithm.\n",
    "max_iters = 50\n",
    "gamma = 0.6\n",
    "batch_size = 5\n",
    "\n",
    "# Initialization\n",
    "w_initial = np.array([0.0, 0.0])\n",
    "\n",
    "# Start SGD.\n",
    "start_time = datetime.datetime.now()\n",
    "gradient_losses, gradient_ws = stochastic_gradient_descent(y, tx, w_initial, batch_size, max_iters, gamma)\n",
    "end_time = datetime.datetime.now()\n",
    "\n",
    "# Print result\n",
    "exection_time = (end_time - start_time).total_seconds()\n",
    "print(\"SGD: execution time={t:.3f} seconds\".format(t=exection_time))"
   ]
  },
  {
   "cell_type": "code",
   "execution_count": 81,
   "metadata": {
    "collapsed": false
   },
   "outputs": [
    {
     "data": {
      "text/plain": [
       "<function __main__.plot_figure>"
      ]
     },
     "execution_count": 81,
     "metadata": {},
     "output_type": "execute_result"
    },
    {
     "data": {
      "image/png": "[encoded data removed]",
      "text/plain": [
       "<matplotlib.figure.Figure at 0x7f5c07f69f28>"
      ]
     },
     "metadata": {},
     "output_type": "display_data"
    }
   ],
   "source": [
    "# Time Visualization\n",
    "from ipywidgets import IntSlider, interact\n",
    "def plot_figure(n_iter):\n",
    "    fig = gradient_descent_visualization(\n",
    "        gradient_losses, gradient_ws, grid_losses, grid_w0, grid_w1, mean_x, std_x, height, weight, n_iter)\n",
    "    fig.set_size_inches(10.0, 6.0)\n",
    "\n",
    "interact(plot_figure, n_iter=IntSlider(min=1, max=len(gradient_ws)))"
   ]
  },
  {
   "cell_type": "code",
   "execution_count": null,
   "metadata": {
    "collapsed": true
   },
   "outputs": [],
   "source": []
  }
 ],
 "metadata": {
  "anaconda-cloud": {},
  "kernelspec": {
   "display_name": "Python [Root]",
   "language": "python",
   "name": "Python [Root]"
  },
  "language_info": {
   "codemirror_mode": {
    "name": "ipython",
    "version": 3
   },
   "file_extension": ".py",
   "mimetype": "text/x-python",
   "name": "python",
   "nbconvert_exporter": "python",
   "pygments_lexer": "ipython3",
   "version": "3.5.2"
  }
 },
 "nbformat": 4,
 "nbformat_minor": 0
}
