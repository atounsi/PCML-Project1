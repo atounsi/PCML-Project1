{
 "cells": [
  {
   "cell_type": "code",
   "execution_count": 108,
   "metadata": {
    "collapsed": false
   },
   "outputs": [
    {
     "name": "stdout",
     "output_type": "stream",
     "text": [
      "The autoreload extension is already loaded. To reload it, use:\n",
      "  %reload_ext autoreload\n"
     ]
    }
   ],
   "source": [
    "# Useful starting lines\n",
    "%matplotlib inline\n",
    "import numpy as np\n",
    "import matplotlib.pyplot as plt\n",
    "import datetime\n",
    "%load_ext autoreload\n",
    "%autoreload 2"
   ]
  },
  {
   "cell_type": "markdown",
   "metadata": {},
   "source": [
    "# Least squares and linear basis functions models\n",
    "## Least squares"
   ]
  },
  {
   "cell_type": "code",
   "execution_count": 138,
   "metadata": {
    "collapsed": false
   },
   "outputs": [],
   "source": [
    "def compute_mse(y, tx, w):\n",
    "   \n",
    "    y = y.reshape(-1, 1)\n",
    "    w = w.reshape(-1, 1)\n",
    "\n",
    "    e = y - tx.dot(w)\n",
    "\n",
    "    L = 1/(2*y.shape[0]) * np.square(e).sum()\n",
    "    #print(L)\n",
    "    \n",
    "    return L\n",
    "\n",
    "def compute_rmse(y, tx, w):\n",
    "    return np.sqrt(2*compute_mse(y, tx, w))\n",
    "\n",
    "\n",
    "def least_squares(y, tx):\n",
    "    \"\"\"calculate the least squares solution.\"\"\"\n",
    "    # ***************************************************\n",
    "    # INSERT YOUR CODE HERE\n",
    "    # least squares: TODO\n",
    "    # returns mse, and optimal weights\n",
    "    # ***************************************************\n",
    "    y = y.reshape(-1, 1)\n",
    "    \n",
    "    txt = np.transpose(tx)\n",
    "    XTX = txt.dot(tx)\n",
    "    \n",
    "    w = np.linalg.inv(XTX).dot(txt).dot(y)\n",
    "    \n",
    "    e = y - tx.dot(w)\n",
    "    L = 1/(2*y.shape[0]) * np.square(e).sum()\n",
    "    \n",
    "    return w,L\n",
    "    "
   ]
  },
  {
   "cell_type": "markdown",
   "metadata": {},
   "source": [
    "### Load the data\n",
    "Here we will reuse the dataset `height_weight_genders.csv` from previous exercise section to check the correctness of your implementation. Please compare it with your previous result."
   ]
  },
  {
   "cell_type": "code",
   "execution_count": 110,
   "metadata": {
    "collapsed": false
   },
   "outputs": [
    {
     "name": "stdout",
     "output_type": "stream",
     "text": [
      "gradient descend w : [73.293922, 13.47971243]\n",
      "least squares w : [[ 73.293922  ]\n",
      " [ 13.47971243]]\n",
      "delta_w : [[  2.10521023e-09   5.98142096e+01]\n",
      " [ -5.98142096e+01   4.98905806e-09]]\n",
      "\n",
      "gradient descend Loss : 15.385887868829402\n",
      "least square Loss : 15.385887868829402\n",
      "delta_loss : 0.0\n",
      "\n",
      "gradient descend exec time : 0.017\n",
      "least square exec time : 0.000428\n",
      "delta exec time : -0.016572\n",
      "\n"
     ]
    },
    {
     "data": {
      "text/plain": [
       "0"
      ]
     },
     "execution_count": 110,
     "metadata": {},
     "output_type": "execute_result"
    }
   ],
   "source": [
    "from helpers import *\n",
    "def test_your_least_squares():\n",
    "    height, weight, gender = load_data_from_ex02(sub_sample=False, add_outlier=False)\n",
    "    x, mean_x, std_x = standardize(height)\n",
    "    y, tx = build_model_data(x, weight)\n",
    "    # ***************************************************\n",
    "    # INSERT YOUR CODE HERE\n",
    "    # least square or grid search: TODO\n",
    "    # this code should compare the optimal weights obtained \n",
    "    # by least squares vs. grid search\n",
    "    # ***************************************************\n",
    "    gradDescentLoss = 15.385887868829402 \n",
    "    gradDescentW = [73.293922, 13.47971243]\n",
    "    gradDescentExecTime =0.017\n",
    "    \n",
    "    start_time = datetime.datetime.now()\n",
    "    w, L = least_squares(y, tx)\n",
    "    end_time = datetime.datetime.now()\n",
    "\n",
    "    exection_time = (end_time - start_time).total_seconds()\n",
    "    \n",
    "    # Print result    \n",
    "    print (\"gradient descend w : {}\".format(gradDescentW))\n",
    "    print (\"least squares w : {}\".format(w))\n",
    "    print (\"delta_w : {}\\n\".format(w-gradDescentW))\n",
    "    \n",
    "    print (\"gradient descend Loss : {}\".format(gradDescentLoss))\n",
    "    print (\"least square Loss : {}\".format(L))\n",
    "    print (\"delta_loss : {}\\n\".format(L-gradDescentLoss))\n",
    "    \n",
    "    print (\"gradient descend exec time : {}\".format(gradDescentExecTime))\n",
    "    print (\"least square exec time : {}\".format(exection_time))\n",
    "    print (\"delta exec time : {}\\n\".format(exection_time-gradDescentExecTime))\n",
    "    \n",
    "    return 0\n",
    "    \n",
    "\n",
    "test_your_least_squares()"
   ]
  },
  {
   "cell_type": "markdown",
   "metadata": {},
   "source": [
    "## Least squares with a linear basis function model\n",
    "Start from this section, we will use the dataset `dataEx3.csv`.\n",
    "\n",
    "### Implement polynomial basis functions"
   ]
  },
  {
   "cell_type": "code",
   "execution_count": 111,
   "metadata": {
    "collapsed": false,
    "scrolled": true
   },
   "outputs": [
    {
     "name": "stdout",
     "output_type": "stream",
     "text": [
      "shape of x (50,)\n",
      "shape of y (50,)\n"
     ]
    }
   ],
   "source": [
    "# load dataset\n",
    "x, y = load_data()\n",
    "print(\"shape of x {}\".format(x.shape))\n",
    "print(\"shape of y {}\".format(y.shape))"
   ]
  },
  {
   "cell_type": "code",
   "execution_count": 112,
   "metadata": {
    "collapsed": false
   },
   "outputs": [],
   "source": [
    "def build_poly(x, degree):\n",
    "    \"\"\"polynomial basis functions for input data x, for j=0 up to j=degree.\"\"\"\n",
    "    # ***************************************************\n",
    "    # INSERT YOUR CODE HERE\n",
    "    # polynomial basis function: TODO\n",
    "    # this function should return the matrix formed\n",
    "    # by applying the polynomial basis to the input data\n",
    "    # ***************************************************\n",
    "    x = x.reshape(-1)    \n",
    "    phi = np.zeros((x.shape[0], degree+1))\n",
    "            \n",
    "    for n in range(degree+1):\n",
    "        phi[:, n] = phi[:, n]+np.power(x, n)\n",
    "       \n",
    "    return phi"
   ]
  },
  {
   "cell_type": "markdown",
   "metadata": {},
   "source": [
    "Let us play with polynomial regression. Note that we will use your implemented function `compute_mse`. Please copy and paste your implementation from exercise02."
   ]
  },
  {
   "cell_type": "code",
   "execution_count": null,
   "metadata": {
    "collapsed": true
   },
   "outputs": [],
   "source": []
  },
  {
   "cell_type": "code",
   "execution_count": 139,
   "metadata": {
    "collapsed": false
   },
   "outputs": [
    {
     "name": "stdout",
     "output_type": "stream",
     "text": [
      "Processing 1th experiment, degree=1, rmse=0.47187607963421874\n",
      "Processing 2th experiment, degree=3, rmse=0.25858277667737484\n",
      "Processing 3th experiment, degree=7, rmse=0.2496587036090912\n",
      "Processing 4th experiment, degree=12, rmse=0.25427451176305493\n"
     ]
    },
    {
     "data": {
      "image/png": "[encoded data removed]",
      "text/plain": [
       "<matplotlib.figure.Figure at 0x7fdcb931b2b0>"
      ]
     },
     "metadata": {},
     "output_type": "display_data"
    }
   ],
   "source": [
    "from plots import *\n",
    "\n",
    "def polynomial_regression():\n",
    "    \"\"\"Constructing the polynomial basis function expansion of the data,\n",
    "       and then running least squares regression.\"\"\"\n",
    "    # define parameters\n",
    "    degrees = [1, 3, 7, 12]\n",
    "    \n",
    "    # define the structure of figure\n",
    "    num_row = 2\n",
    "    num_col = 2\n",
    "    f, axs = plt.subplots(num_row, num_col)\n",
    "\n",
    "    for ind, degree in enumerate(degrees):\n",
    "        # ***************************************************\n",
    "        # INSERT YOUR CODE HERE\n",
    "        # form the data to do polynomial regression.: TODO\n",
    "        # ***************************************************\n",
    "        phi = build_poly(x, degree)\n",
    "        \n",
    "        # ***************************************************\n",
    "        # INSERT YOUR CODE HERE\n",
    "        # least square and calculate rmse: TODO\n",
    "        # ***************************************************\n",
    "        weight, L = least_squares(y, phi)\n",
    "        rmse = np.sqrt(2*L)\n",
    "        \n",
    "        \n",
    "        print(\"Processing {i}th experiment, degree={d}, rmse={loss}\".format(\n",
    "              i=ind + 1, d=degree, loss=rmse))\n",
    "        # plot fit\n",
    "        plot_fitted_curve(\n",
    "            y, x, weight, degree, axs[ind // num_col][ind % num_col])\n",
    "    \n",
    "    plt.tight_layout()\n",
    "    plt.savefig(\"visualize_polynomial_regression\")\n",
    "    plt.show()\n",
    "\n",
    "\n",
    "polynomial_regression()"
   ]
  },
  {
   "cell_type": "markdown",
   "metadata": {},
   "source": [
    "The fit gets not nesserarily better as we increase the degree. Because of the overfit ! The best view is the polynomial degree 7 in this case. \n",
    "\n",
    "\n",
    "\n",
    "\n",
    "# Evaluating model predication performance\n",
    "\n",
    "Let us show the train and test splits for various polynomial degrees. First of all, please fill in the function `split_data()`"
   ]
  },
  {
   "cell_type": "code",
   "execution_count": 140,
   "metadata": {
    "collapsed": false
   },
   "outputs": [],
   "source": [
    "def split_data(x, y, ratio, seed=1):\n",
    "    \"\"\"split the dataset based on the split ratio.\"\"\"\n",
    "    # set seed\n",
    "    np.random.seed(seed)\n",
    "    # ***************************************************\n",
    "    # INSERT YOUR CODE HERE\n",
    "    # split the data based on the given ratio: TODO\n",
    "    # ***************************************************\n",
    "    \n",
    "    shuffle_indices = np.random.permutation(np.arange(len(x)))\n",
    "    shuffled_y = y[shuffle_indices]\n",
    "    shuffled_x = x[shuffle_indices]\n",
    "    \n",
    "    max_i = len(x)-1\n",
    "    cut_i = np.floor(max_i * ratio)\n",
    "    \n",
    "    return shuffled_x[0:cut_i], shuffled_y[0:cut_i],shuffled_x[cut_i:max_i],shuffled_y[cut_i:max_i] \n",
    "    \n",
    "    "
   ]
  },
  {
   "cell_type": "markdown",
   "metadata": {},
   "source": [
    "Then, test your `split_data` function below."
   ]
  },
  {
   "cell_type": "code",
   "execution_count": 141,
   "metadata": {
    "collapsed": false
   },
   "outputs": [
    {
     "name": "stdout",
     "output_type": "stream",
     "text": [
      "proportion=0.9, degree=1, Training RMSE=0.497, Testing RMSE=0.198\n",
      "proportion=0.9, degree=3, Training RMSE=0.257, Testing RMSE=0.301\n",
      "proportion=0.9, degree=7, Training RMSE=0.244, Testing RMSE=0.335\n",
      "proportion=0.9, degree=12, Training RMSE=9.655, Testing RMSE=2.111\n",
      "proportion=0.5, degree=1, Training RMSE=0.464, Testing RMSE=0.526\n",
      "proportion=0.5, degree=3, Training RMSE=0.235, Testing RMSE=0.306\n",
      "proportion=0.5, degree=7, Training RMSE=0.231, Testing RMSE=0.295\n",
      "proportion=0.5, degree=12, Training RMSE=0.249, Testing RMSE=1.590\n",
      "proportion=0.1, degree=1, Training RMSE=0.476, Testing RMSE=0.545\n",
      "proportion=0.1, degree=3, Training RMSE=0.000, Testing RMSE=1.411\n",
      "proportion=0.1, degree=7, Training RMSE=8.923, Testing RMSE=8.122\n",
      "proportion=0.1, degree=12, Training RMSE=6.825, Testing RMSE=30.555\n"
     ]
    },
    {
     "name": "stderr",
     "output_type": "stream",
     "text": [
      "/opt/anaconda3/lib/python3.5/site-packages/ipykernel/__main__.py:17: VisibleDeprecationWarning: using a non-integer number instead of an integer will result in an error in the future\n"
     ]
    }
   ],
   "source": [
    "def train_test_split_demo(x, y, degree, ratio, seed):\n",
    "    \"\"\"polynomial regression with different split ratios and different degrees.\"\"\"\n",
    "    # ***************************************************\n",
    "    # INSERT YOUR CODE HERE\n",
    "    # split the data, and return train and test data: TODO\n",
    "    # ***************************************************\n",
    "    x_train, y_train, x_test, y_test = split_data(x, y, ratio, seed=seed)\n",
    "    \n",
    "    # ***************************************************\n",
    "    # INSERT YOUR CODE HERE\n",
    "    # form train and test data with polynomial basis function: TODO\n",
    "    # ***************************************************\n",
    "    phi_train = build_poly(x_train, degree)\n",
    "    phi_test = build_poly(x_test, degree)\n",
    "        \n",
    "    # ***************************************************\n",
    "    # INSERT YOUR CODE HERE\n",
    "    # calcualte weight through least square.: TODO\n",
    "    # ***************************************************\n",
    "    w, L_train = least_squares(y_train, phi_train)\n",
    "    \n",
    "   \n",
    "    # ***************************************************\n",
    "    # INSERT YOUR CODE HERE\n",
    "    # calculate RMSE for train and test data,\n",
    "    # and store them in rmse_tr and rmse_te respectively: TODO\n",
    "    # ***************************************************\n",
    "    rmse_tr = np.sqrt(2*L_train)\n",
    "    rmse_te = compute_rmse(y_test, phi_test, w)\n",
    "    \n",
    "    \n",
    "    \n",
    "    print(\"proportion={p}, degree={d}, Training RMSE={tr:.3f}, Testing RMSE={te:.3f}\".format(\n",
    "          p=ratio, d=degree, tr=rmse_tr, te=rmse_te))\n",
    "\n",
    "    \n",
    "    \n",
    "seed = 6\n",
    "degrees = [1, 3, 7, 12]\n",
    "split_ratios = [0.9, 0.5, 0.1]\n",
    "\n",
    "for split_ratio in split_ratios:\n",
    "    for degree in degrees:\n",
    "        train_test_split_demo(x, y, degree, split_ratio, seed)"
   ]
  },
  {
   "cell_type": "code",
   "execution_count": null,
   "metadata": {
    "collapsed": false
   },
   "outputs": [],
   "source": []
  },
  {
   "cell_type": "markdown",
   "metadata": {},
   "source": [
    "# Ridge Regression\n",
    "Please fill in the function below."
   ]
  },
  {
   "cell_type": "code",
   "execution_count": 169,
   "metadata": {
    "collapsed": true
   },
   "outputs": [],
   "source": [
    "def ridge_regression(y, tx, lamb):\n",
    "    \"\"\"implement ridge regression.\"\"\"\n",
    "    # ***************************************************\n",
    "    # INSERT YOUR CODE HERE\n",
    "    # ridge regression: TODO\n",
    "    # ***************************************************\n",
    "    y = y.reshape(-1, 1)\n",
    "\n",
    "    txt = np.transpose(tx)\n",
    "    \n",
    "    XTXL = txt.dot(tx)+ lamb*np.identity(tx.shape[1])    \n",
    "  \n",
    "    w = np.linalg.inv(XTXL).dot(txt).dot(y)\n",
    "    \n",
    "    return w"
   ]
  },
  {
   "cell_type": "code",
   "execution_count": 183,
   "metadata": {
    "collapsed": false
   },
   "outputs": [
    {
     "name": "stderr",
     "output_type": "stream",
     "text": [
      "/opt/anaconda3/lib/python3.5/site-packages/ipykernel/__main__.py:17: VisibleDeprecationWarning: using a non-integer number instead of an integer will result in an error in the future\n"
     ]
    },
    {
     "name": "stdout",
     "output_type": "stream",
     "text": [
      "[0.23129932619129631, 0.23138563143518254, 0.23148899292308944, 0.23164509473437278, 0.2320107923344969, 0.2326636543924851, 0.23393437970084952, 0.23862040398854778, 0.2562341212666181, 0.29715886965537514]\n",
      "\n",
      "\n",
      "[0.29532541734832379, 0.295521717604384, 0.29558677978472225, 0.29536054630173997, 0.29470625899300151, 0.29247351616861589, 0.28625274508343024, 0.27697072337898615, 0.28026166047393702, 0.31963995696968167]\n"
     ]
    },
    {
     "data": {
      "image/png": "[encoded data removed]",
      "text/plain": [
       "<matplotlib.figure.Figure at 0x7fdcbbf2aeb8>"
      ]
     },
     "metadata": {},
     "output_type": "display_data"
    }
   ],
   "source": [
    "def ridge_regression_demo(x, y, degree, ratio, seed):\n",
    "    \"\"\"ridge regression demo.\"\"\"\n",
    "    # define parameter\n",
    "    lambdas = np.logspace(-3, 1, 10)    \n",
    "    # ***************************************************\n",
    "    # INSERT YOUR CODE HERE\n",
    "    # split the data, and return train and test data: TODO\n",
    "    # ***************************************************\n",
    "    x_train, y_train, x_test, y_test = split_data(x, y, ratio, seed=seed)\n",
    "    \n",
    "    # ***************************************************\n",
    "    # INSERT YOUR CODE HERE\n",
    "    # form train and test data with polynomial basis function: TODO\n",
    "    # ***************************************************\n",
    "    phi_train = build_poly(x_train, degree)\n",
    "    phi_test = build_poly(x_test, degree)\n",
    "    \n",
    "    # ***************************************************\n",
    "    # INSERT YOUR CODE HERE\n",
    "    # ridge regression with different lambda: TODO\n",
    "    # ***************************************************\n",
    "    rmse_trs = []\n",
    "    rmse_tes = []\n",
    "    \n",
    "    for lamb in lambdas:\n",
    "        \n",
    "        w = ridge_regression(y_train, phi_train, lamb)\n",
    "        rmse_trs.append(compute_rmse(y_train, phi_train, w))\n",
    "        rmse_tes.append(compute_rmse(y_test, phi_test, w))\n",
    "        \n",
    "    \n",
    "    \n",
    "    print(rmse_trs)\n",
    "    print(\"\\n\")\n",
    "    print(rmse_tes)\n",
    "    \n",
    "    plt.plot(lambdas, rmse_trs, 'b*', lambdas, rmse_tes, 'r*')\n",
    "    #plt.axis([-1000, 10, 0.2, 0.45])\n",
    "    plt.xscale('log', nonposy='clip')\n",
    "    plt.show()\n",
    "    \n",
    "    \n",
    "    \n",
    "seed = 6\n",
    "degree = 7\n",
    "split_ratio = 0.5\n",
    "\n",
    "ridge_regression_demo(x, y, degree, split_ratio, seed)"
   ]
  },
  {
   "cell_type": "code",
   "execution_count": null,
   "metadata": {
    "collapsed": true
   },
   "outputs": [],
   "source": []
  }
 ],
 "metadata": {
  "anaconda-cloud": {},
  "kernelspec": {
   "display_name": "Python [Root]",
   "language": "python",
   "name": "Python [Root]"
  },
  "language_info": {
   "codemirror_mode": {
    "name": "ipython",
    "version": 3
   },
   "file_extension": ".py",
   "mimetype": "text/x-python",
   "name": "python",
   "nbconvert_exporter": "python",
   "pygments_lexer": "ipython3",
   "version": "3.5.2"
  }
 },
 "nbformat": 4,
 "nbformat_minor": 0
}
